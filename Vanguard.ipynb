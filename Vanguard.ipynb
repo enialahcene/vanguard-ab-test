{
 "cells": [
  {
   "cell_type": "code",
   "execution_count": 82,
   "metadata": {},
   "outputs": [],
   "source": [
    "import pandas as pd\n",
    "import matplotlib.pyplot as plt\n",
    "import numpy as np\n",
    "import seaborn as sns\n",
    "from scipy import stats"
   ]
  },
  {
   "cell_type": "markdown",
   "metadata": {},
   "source": [
    "# Limpieza de datos"
   ]
  },
  {
   "cell_type": "code",
   "execution_count": 5,
   "metadata": {},
   "outputs": [
    {
     "data": {
      "text/html": [
       "<div>\n",
       "<style scoped>\n",
       "    .dataframe tbody tr th:only-of-type {\n",
       "        vertical-align: middle;\n",
       "    }\n",
       "\n",
       "    .dataframe tbody tr th {\n",
       "        vertical-align: top;\n",
       "    }\n",
       "\n",
       "    .dataframe thead th {\n",
       "        text-align: right;\n",
       "    }\n",
       "</style>\n",
       "<table border=\"1\" class=\"dataframe\">\n",
       "  <thead>\n",
       "    <tr style=\"text-align: right;\">\n",
       "      <th></th>\n",
       "      <th>client_id</th>\n",
       "      <th>clnt_tenure_yr</th>\n",
       "      <th>clnt_tenure_mnth</th>\n",
       "      <th>clnt_age</th>\n",
       "      <th>gendr</th>\n",
       "      <th>num_accts</th>\n",
       "      <th>bal</th>\n",
       "      <th>calls_6_mnth</th>\n",
       "      <th>logons_6_mnth</th>\n",
       "    </tr>\n",
       "  </thead>\n",
       "  <tbody>\n",
       "    <tr>\n",
       "      <th>0</th>\n",
       "      <td>836976</td>\n",
       "      <td>6.0</td>\n",
       "      <td>73.0</td>\n",
       "      <td>60.5</td>\n",
       "      <td>U</td>\n",
       "      <td>2.0</td>\n",
       "      <td>45105.30</td>\n",
       "      <td>6.0</td>\n",
       "      <td>9.0</td>\n",
       "    </tr>\n",
       "    <tr>\n",
       "      <th>1</th>\n",
       "      <td>2304905</td>\n",
       "      <td>7.0</td>\n",
       "      <td>94.0</td>\n",
       "      <td>58.0</td>\n",
       "      <td>U</td>\n",
       "      <td>2.0</td>\n",
       "      <td>110860.30</td>\n",
       "      <td>6.0</td>\n",
       "      <td>9.0</td>\n",
       "    </tr>\n",
       "    <tr>\n",
       "      <th>2</th>\n",
       "      <td>1439522</td>\n",
       "      <td>5.0</td>\n",
       "      <td>64.0</td>\n",
       "      <td>32.0</td>\n",
       "      <td>U</td>\n",
       "      <td>2.0</td>\n",
       "      <td>52467.79</td>\n",
       "      <td>6.0</td>\n",
       "      <td>9.0</td>\n",
       "    </tr>\n",
       "    <tr>\n",
       "      <th>3</th>\n",
       "      <td>1562045</td>\n",
       "      <td>16.0</td>\n",
       "      <td>198.0</td>\n",
       "      <td>49.0</td>\n",
       "      <td>M</td>\n",
       "      <td>2.0</td>\n",
       "      <td>67454.65</td>\n",
       "      <td>3.0</td>\n",
       "      <td>6.0</td>\n",
       "    </tr>\n",
       "    <tr>\n",
       "      <th>4</th>\n",
       "      <td>5126305</td>\n",
       "      <td>12.0</td>\n",
       "      <td>145.0</td>\n",
       "      <td>33.0</td>\n",
       "      <td>F</td>\n",
       "      <td>2.0</td>\n",
       "      <td>103671.75</td>\n",
       "      <td>0.0</td>\n",
       "      <td>3.0</td>\n",
       "    </tr>\n",
       "    <tr>\n",
       "      <th>...</th>\n",
       "      <td>...</td>\n",
       "      <td>...</td>\n",
       "      <td>...</td>\n",
       "      <td>...</td>\n",
       "      <td>...</td>\n",
       "      <td>...</td>\n",
       "      <td>...</td>\n",
       "      <td>...</td>\n",
       "      <td>...</td>\n",
       "    </tr>\n",
       "    <tr>\n",
       "      <th>70604</th>\n",
       "      <td>7993686</td>\n",
       "      <td>4.0</td>\n",
       "      <td>56.0</td>\n",
       "      <td>38.5</td>\n",
       "      <td>U</td>\n",
       "      <td>3.0</td>\n",
       "      <td>1411062.68</td>\n",
       "      <td>5.0</td>\n",
       "      <td>5.0</td>\n",
       "    </tr>\n",
       "    <tr>\n",
       "      <th>70605</th>\n",
       "      <td>8981690</td>\n",
       "      <td>12.0</td>\n",
       "      <td>148.0</td>\n",
       "      <td>31.0</td>\n",
       "      <td>M</td>\n",
       "      <td>2.0</td>\n",
       "      <td>101867.07</td>\n",
       "      <td>6.0</td>\n",
       "      <td>6.0</td>\n",
       "    </tr>\n",
       "    <tr>\n",
       "      <th>70606</th>\n",
       "      <td>333913</td>\n",
       "      <td>16.0</td>\n",
       "      <td>198.0</td>\n",
       "      <td>61.5</td>\n",
       "      <td>F</td>\n",
       "      <td>2.0</td>\n",
       "      <td>40745.00</td>\n",
       "      <td>3.0</td>\n",
       "      <td>3.0</td>\n",
       "    </tr>\n",
       "    <tr>\n",
       "      <th>70607</th>\n",
       "      <td>1573142</td>\n",
       "      <td>21.0</td>\n",
       "      <td>255.0</td>\n",
       "      <td>68.0</td>\n",
       "      <td>M</td>\n",
       "      <td>3.0</td>\n",
       "      <td>475114.69</td>\n",
       "      <td>4.0</td>\n",
       "      <td>4.0</td>\n",
       "    </tr>\n",
       "    <tr>\n",
       "      <th>70608</th>\n",
       "      <td>5602139</td>\n",
       "      <td>21.0</td>\n",
       "      <td>254.0</td>\n",
       "      <td>59.5</td>\n",
       "      <td>F</td>\n",
       "      <td>3.0</td>\n",
       "      <td>157498.73</td>\n",
       "      <td>7.0</td>\n",
       "      <td>7.0</td>\n",
       "    </tr>\n",
       "  </tbody>\n",
       "</table>\n",
       "<p>70609 rows × 9 columns</p>\n",
       "</div>"
      ],
      "text/plain": [
       "       client_id  clnt_tenure_yr  clnt_tenure_mnth  clnt_age gendr  num_accts  \\\n",
       "0         836976             6.0              73.0      60.5     U        2.0   \n",
       "1        2304905             7.0              94.0      58.0     U        2.0   \n",
       "2        1439522             5.0              64.0      32.0     U        2.0   \n",
       "3        1562045            16.0             198.0      49.0     M        2.0   \n",
       "4        5126305            12.0             145.0      33.0     F        2.0   \n",
       "...          ...             ...               ...       ...   ...        ...   \n",
       "70604    7993686             4.0              56.0      38.5     U        3.0   \n",
       "70605    8981690            12.0             148.0      31.0     M        2.0   \n",
       "70606     333913            16.0             198.0      61.5     F        2.0   \n",
       "70607    1573142            21.0             255.0      68.0     M        3.0   \n",
       "70608    5602139            21.0             254.0      59.5     F        3.0   \n",
       "\n",
       "              bal  calls_6_mnth  logons_6_mnth  \n",
       "0        45105.30           6.0            9.0  \n",
       "1       110860.30           6.0            9.0  \n",
       "2        52467.79           6.0            9.0  \n",
       "3        67454.65           3.0            6.0  \n",
       "4       103671.75           0.0            3.0  \n",
       "...           ...           ...            ...  \n",
       "70604  1411062.68           5.0            5.0  \n",
       "70605   101867.07           6.0            6.0  \n",
       "70606    40745.00           3.0            3.0  \n",
       "70607   475114.69           4.0            4.0  \n",
       "70608   157498.73           7.0            7.0  \n",
       "\n",
       "[70609 rows x 9 columns]"
      ]
     },
     "execution_count": 5,
     "metadata": {},
     "output_type": "execute_result"
    }
   ],
   "source": [
    "df_demo = pd.read_csv('df_final_demo.csv')\n",
    "df_demo"
   ]
  },
  {
   "cell_type": "code",
   "execution_count": 6,
   "metadata": {},
   "outputs": [
    {
     "data": {
      "text/plain": [
       "15"
      ]
     },
     "execution_count": 6,
     "metadata": {},
     "output_type": "execute_result"
    }
   ],
   "source": [
    "df_demo.isnull().any(axis=1).sum()"
   ]
  },
  {
   "cell_type": "code",
   "execution_count": 7,
   "metadata": {},
   "outputs": [
    {
     "data": {
      "text/html": [
       "<div>\n",
       "<style scoped>\n",
       "    .dataframe tbody tr th:only-of-type {\n",
       "        vertical-align: middle;\n",
       "    }\n",
       "\n",
       "    .dataframe tbody tr th {\n",
       "        vertical-align: top;\n",
       "    }\n",
       "\n",
       "    .dataframe thead th {\n",
       "        text-align: right;\n",
       "    }\n",
       "</style>\n",
       "<table border=\"1\" class=\"dataframe\">\n",
       "  <thead>\n",
       "    <tr style=\"text-align: right;\">\n",
       "      <th></th>\n",
       "      <th>client_id</th>\n",
       "      <th>clnt_tenure_yr</th>\n",
       "      <th>clnt_tenure_mnth</th>\n",
       "      <th>clnt_age</th>\n",
       "      <th>gendr</th>\n",
       "      <th>num_accts</th>\n",
       "      <th>bal</th>\n",
       "      <th>calls_6_mnth</th>\n",
       "      <th>logons_6_mnth</th>\n",
       "    </tr>\n",
       "  </thead>\n",
       "  <tbody>\n",
       "    <tr>\n",
       "      <th>0</th>\n",
       "      <td>836976</td>\n",
       "      <td>6.0</td>\n",
       "      <td>73.0</td>\n",
       "      <td>60.5</td>\n",
       "      <td>U</td>\n",
       "      <td>2.0</td>\n",
       "      <td>45105.30</td>\n",
       "      <td>6.0</td>\n",
       "      <td>9.0</td>\n",
       "    </tr>\n",
       "    <tr>\n",
       "      <th>1</th>\n",
       "      <td>2304905</td>\n",
       "      <td>7.0</td>\n",
       "      <td>94.0</td>\n",
       "      <td>58.0</td>\n",
       "      <td>U</td>\n",
       "      <td>2.0</td>\n",
       "      <td>110860.30</td>\n",
       "      <td>6.0</td>\n",
       "      <td>9.0</td>\n",
       "    </tr>\n",
       "    <tr>\n",
       "      <th>2</th>\n",
       "      <td>1439522</td>\n",
       "      <td>5.0</td>\n",
       "      <td>64.0</td>\n",
       "      <td>32.0</td>\n",
       "      <td>U</td>\n",
       "      <td>2.0</td>\n",
       "      <td>52467.79</td>\n",
       "      <td>6.0</td>\n",
       "      <td>9.0</td>\n",
       "    </tr>\n",
       "    <tr>\n",
       "      <th>3</th>\n",
       "      <td>1562045</td>\n",
       "      <td>16.0</td>\n",
       "      <td>198.0</td>\n",
       "      <td>49.0</td>\n",
       "      <td>M</td>\n",
       "      <td>2.0</td>\n",
       "      <td>67454.65</td>\n",
       "      <td>3.0</td>\n",
       "      <td>6.0</td>\n",
       "    </tr>\n",
       "    <tr>\n",
       "      <th>4</th>\n",
       "      <td>5126305</td>\n",
       "      <td>12.0</td>\n",
       "      <td>145.0</td>\n",
       "      <td>33.0</td>\n",
       "      <td>F</td>\n",
       "      <td>2.0</td>\n",
       "      <td>103671.75</td>\n",
       "      <td>0.0</td>\n",
       "      <td>3.0</td>\n",
       "    </tr>\n",
       "    <tr>\n",
       "      <th>...</th>\n",
       "      <td>...</td>\n",
       "      <td>...</td>\n",
       "      <td>...</td>\n",
       "      <td>...</td>\n",
       "      <td>...</td>\n",
       "      <td>...</td>\n",
       "      <td>...</td>\n",
       "      <td>...</td>\n",
       "      <td>...</td>\n",
       "    </tr>\n",
       "    <tr>\n",
       "      <th>70604</th>\n",
       "      <td>7993686</td>\n",
       "      <td>4.0</td>\n",
       "      <td>56.0</td>\n",
       "      <td>38.5</td>\n",
       "      <td>U</td>\n",
       "      <td>3.0</td>\n",
       "      <td>1411062.68</td>\n",
       "      <td>5.0</td>\n",
       "      <td>5.0</td>\n",
       "    </tr>\n",
       "    <tr>\n",
       "      <th>70605</th>\n",
       "      <td>8981690</td>\n",
       "      <td>12.0</td>\n",
       "      <td>148.0</td>\n",
       "      <td>31.0</td>\n",
       "      <td>M</td>\n",
       "      <td>2.0</td>\n",
       "      <td>101867.07</td>\n",
       "      <td>6.0</td>\n",
       "      <td>6.0</td>\n",
       "    </tr>\n",
       "    <tr>\n",
       "      <th>70606</th>\n",
       "      <td>333913</td>\n",
       "      <td>16.0</td>\n",
       "      <td>198.0</td>\n",
       "      <td>61.5</td>\n",
       "      <td>F</td>\n",
       "      <td>2.0</td>\n",
       "      <td>40745.00</td>\n",
       "      <td>3.0</td>\n",
       "      <td>3.0</td>\n",
       "    </tr>\n",
       "    <tr>\n",
       "      <th>70607</th>\n",
       "      <td>1573142</td>\n",
       "      <td>21.0</td>\n",
       "      <td>255.0</td>\n",
       "      <td>68.0</td>\n",
       "      <td>M</td>\n",
       "      <td>3.0</td>\n",
       "      <td>475114.69</td>\n",
       "      <td>4.0</td>\n",
       "      <td>4.0</td>\n",
       "    </tr>\n",
       "    <tr>\n",
       "      <th>70608</th>\n",
       "      <td>5602139</td>\n",
       "      <td>21.0</td>\n",
       "      <td>254.0</td>\n",
       "      <td>59.5</td>\n",
       "      <td>F</td>\n",
       "      <td>3.0</td>\n",
       "      <td>157498.73</td>\n",
       "      <td>7.0</td>\n",
       "      <td>7.0</td>\n",
       "    </tr>\n",
       "  </tbody>\n",
       "</table>\n",
       "<p>70594 rows × 9 columns</p>\n",
       "</div>"
      ],
      "text/plain": [
       "       client_id  clnt_tenure_yr  clnt_tenure_mnth  clnt_age gendr  num_accts  \\\n",
       "0         836976             6.0              73.0      60.5     U        2.0   \n",
       "1        2304905             7.0              94.0      58.0     U        2.0   \n",
       "2        1439522             5.0              64.0      32.0     U        2.0   \n",
       "3        1562045            16.0             198.0      49.0     M        2.0   \n",
       "4        5126305            12.0             145.0      33.0     F        2.0   \n",
       "...          ...             ...               ...       ...   ...        ...   \n",
       "70604    7993686             4.0              56.0      38.5     U        3.0   \n",
       "70605    8981690            12.0             148.0      31.0     M        2.0   \n",
       "70606     333913            16.0             198.0      61.5     F        2.0   \n",
       "70607    1573142            21.0             255.0      68.0     M        3.0   \n",
       "70608    5602139            21.0             254.0      59.5     F        3.0   \n",
       "\n",
       "              bal  calls_6_mnth  logons_6_mnth  \n",
       "0        45105.30           6.0            9.0  \n",
       "1       110860.30           6.0            9.0  \n",
       "2        52467.79           6.0            9.0  \n",
       "3        67454.65           3.0            6.0  \n",
       "4       103671.75           0.0            3.0  \n",
       "...           ...           ...            ...  \n",
       "70604  1411062.68           5.0            5.0  \n",
       "70605   101867.07           6.0            6.0  \n",
       "70606    40745.00           3.0            3.0  \n",
       "70607   475114.69           4.0            4.0  \n",
       "70608   157498.73           7.0            7.0  \n",
       "\n",
       "[70594 rows x 9 columns]"
      ]
     },
     "execution_count": 7,
     "metadata": {},
     "output_type": "execute_result"
    }
   ],
   "source": [
    "df_demo = df_demo.dropna()\n",
    "df_demo"
   ]
  },
  {
   "cell_type": "code",
   "execution_count": 8,
   "metadata": {},
   "outputs": [
    {
     "name": "stderr",
     "output_type": "stream",
     "text": [
      "C:\\Users\\bruno\\AppData\\Local\\Temp\\ipykernel_23188\\4079634363.py:1: SettingWithCopyWarning: \n",
      "A value is trying to be set on a copy of a slice from a DataFrame.\n",
      "Try using .loc[row_indexer,col_indexer] = value instead\n",
      "\n",
      "See the caveats in the documentation: https://pandas.pydata.org/pandas-docs/stable/user_guide/indexing.html#returning-a-view-versus-a-copy\n",
      "  df_demo['clnt_age'] = df_demo['clnt_age'].astype(int)\n"
     ]
    },
    {
     "data": {
      "text/html": [
       "<div>\n",
       "<style scoped>\n",
       "    .dataframe tbody tr th:only-of-type {\n",
       "        vertical-align: middle;\n",
       "    }\n",
       "\n",
       "    .dataframe tbody tr th {\n",
       "        vertical-align: top;\n",
       "    }\n",
       "\n",
       "    .dataframe thead th {\n",
       "        text-align: right;\n",
       "    }\n",
       "</style>\n",
       "<table border=\"1\" class=\"dataframe\">\n",
       "  <thead>\n",
       "    <tr style=\"text-align: right;\">\n",
       "      <th></th>\n",
       "      <th>client_id</th>\n",
       "      <th>clnt_tenure_yr</th>\n",
       "      <th>clnt_tenure_mnth</th>\n",
       "      <th>clnt_age</th>\n",
       "      <th>gendr</th>\n",
       "      <th>num_accts</th>\n",
       "      <th>bal</th>\n",
       "      <th>calls_6_mnth</th>\n",
       "      <th>logons_6_mnth</th>\n",
       "    </tr>\n",
       "  </thead>\n",
       "  <tbody>\n",
       "    <tr>\n",
       "      <th>0</th>\n",
       "      <td>836976</td>\n",
       "      <td>6.0</td>\n",
       "      <td>73.0</td>\n",
       "      <td>60</td>\n",
       "      <td>U</td>\n",
       "      <td>2.0</td>\n",
       "      <td>45105.30</td>\n",
       "      <td>6.0</td>\n",
       "      <td>9.0</td>\n",
       "    </tr>\n",
       "    <tr>\n",
       "      <th>1</th>\n",
       "      <td>2304905</td>\n",
       "      <td>7.0</td>\n",
       "      <td>94.0</td>\n",
       "      <td>58</td>\n",
       "      <td>U</td>\n",
       "      <td>2.0</td>\n",
       "      <td>110860.30</td>\n",
       "      <td>6.0</td>\n",
       "      <td>9.0</td>\n",
       "    </tr>\n",
       "    <tr>\n",
       "      <th>2</th>\n",
       "      <td>1439522</td>\n",
       "      <td>5.0</td>\n",
       "      <td>64.0</td>\n",
       "      <td>32</td>\n",
       "      <td>U</td>\n",
       "      <td>2.0</td>\n",
       "      <td>52467.79</td>\n",
       "      <td>6.0</td>\n",
       "      <td>9.0</td>\n",
       "    </tr>\n",
       "    <tr>\n",
       "      <th>3</th>\n",
       "      <td>1562045</td>\n",
       "      <td>16.0</td>\n",
       "      <td>198.0</td>\n",
       "      <td>49</td>\n",
       "      <td>M</td>\n",
       "      <td>2.0</td>\n",
       "      <td>67454.65</td>\n",
       "      <td>3.0</td>\n",
       "      <td>6.0</td>\n",
       "    </tr>\n",
       "    <tr>\n",
       "      <th>4</th>\n",
       "      <td>5126305</td>\n",
       "      <td>12.0</td>\n",
       "      <td>145.0</td>\n",
       "      <td>33</td>\n",
       "      <td>F</td>\n",
       "      <td>2.0</td>\n",
       "      <td>103671.75</td>\n",
       "      <td>0.0</td>\n",
       "      <td>3.0</td>\n",
       "    </tr>\n",
       "    <tr>\n",
       "      <th>...</th>\n",
       "      <td>...</td>\n",
       "      <td>...</td>\n",
       "      <td>...</td>\n",
       "      <td>...</td>\n",
       "      <td>...</td>\n",
       "      <td>...</td>\n",
       "      <td>...</td>\n",
       "      <td>...</td>\n",
       "      <td>...</td>\n",
       "    </tr>\n",
       "    <tr>\n",
       "      <th>70604</th>\n",
       "      <td>7993686</td>\n",
       "      <td>4.0</td>\n",
       "      <td>56.0</td>\n",
       "      <td>38</td>\n",
       "      <td>U</td>\n",
       "      <td>3.0</td>\n",
       "      <td>1411062.68</td>\n",
       "      <td>5.0</td>\n",
       "      <td>5.0</td>\n",
       "    </tr>\n",
       "    <tr>\n",
       "      <th>70605</th>\n",
       "      <td>8981690</td>\n",
       "      <td>12.0</td>\n",
       "      <td>148.0</td>\n",
       "      <td>31</td>\n",
       "      <td>M</td>\n",
       "      <td>2.0</td>\n",
       "      <td>101867.07</td>\n",
       "      <td>6.0</td>\n",
       "      <td>6.0</td>\n",
       "    </tr>\n",
       "    <tr>\n",
       "      <th>70606</th>\n",
       "      <td>333913</td>\n",
       "      <td>16.0</td>\n",
       "      <td>198.0</td>\n",
       "      <td>61</td>\n",
       "      <td>F</td>\n",
       "      <td>2.0</td>\n",
       "      <td>40745.00</td>\n",
       "      <td>3.0</td>\n",
       "      <td>3.0</td>\n",
       "    </tr>\n",
       "    <tr>\n",
       "      <th>70607</th>\n",
       "      <td>1573142</td>\n",
       "      <td>21.0</td>\n",
       "      <td>255.0</td>\n",
       "      <td>68</td>\n",
       "      <td>M</td>\n",
       "      <td>3.0</td>\n",
       "      <td>475114.69</td>\n",
       "      <td>4.0</td>\n",
       "      <td>4.0</td>\n",
       "    </tr>\n",
       "    <tr>\n",
       "      <th>70608</th>\n",
       "      <td>5602139</td>\n",
       "      <td>21.0</td>\n",
       "      <td>254.0</td>\n",
       "      <td>59</td>\n",
       "      <td>F</td>\n",
       "      <td>3.0</td>\n",
       "      <td>157498.73</td>\n",
       "      <td>7.0</td>\n",
       "      <td>7.0</td>\n",
       "    </tr>\n",
       "  </tbody>\n",
       "</table>\n",
       "<p>70594 rows × 9 columns</p>\n",
       "</div>"
      ],
      "text/plain": [
       "       client_id  clnt_tenure_yr  clnt_tenure_mnth  clnt_age gendr  num_accts  \\\n",
       "0         836976             6.0              73.0        60     U        2.0   \n",
       "1        2304905             7.0              94.0        58     U        2.0   \n",
       "2        1439522             5.0              64.0        32     U        2.0   \n",
       "3        1562045            16.0             198.0        49     M        2.0   \n",
       "4        5126305            12.0             145.0        33     F        2.0   \n",
       "...          ...             ...               ...       ...   ...        ...   \n",
       "70604    7993686             4.0              56.0        38     U        3.0   \n",
       "70605    8981690            12.0             148.0        31     M        2.0   \n",
       "70606     333913            16.0             198.0        61     F        2.0   \n",
       "70607    1573142            21.0             255.0        68     M        3.0   \n",
       "70608    5602139            21.0             254.0        59     F        3.0   \n",
       "\n",
       "              bal  calls_6_mnth  logons_6_mnth  \n",
       "0        45105.30           6.0            9.0  \n",
       "1       110860.30           6.0            9.0  \n",
       "2        52467.79           6.0            9.0  \n",
       "3        67454.65           3.0            6.0  \n",
       "4       103671.75           0.0            3.0  \n",
       "...           ...           ...            ...  \n",
       "70604  1411062.68           5.0            5.0  \n",
       "70605   101867.07           6.0            6.0  \n",
       "70606    40745.00           3.0            3.0  \n",
       "70607   475114.69           4.0            4.0  \n",
       "70608   157498.73           7.0            7.0  \n",
       "\n",
       "[70594 rows x 9 columns]"
      ]
     },
     "execution_count": 8,
     "metadata": {},
     "output_type": "execute_result"
    }
   ],
   "source": [
    "df_demo['clnt_age'] = df_demo['clnt_age'].astype(int)\n",
    "df_demo"
   ]
  },
  {
   "cell_type": "code",
   "execution_count": 47,
   "metadata": {},
   "outputs": [
    {
     "data": {
      "text/plain": [
       "client_id             int64\n",
       "clnt_tenure_yr      float64\n",
       "clnt_tenure_mnth    float64\n",
       "clnt_age              int32\n",
       "gendr                object\n",
       "num_accts           float64\n",
       "bal                 float64\n",
       "calls_6_mnth        float64\n",
       "logons_6_mnth       float64\n",
       "dtype: object"
      ]
     },
     "execution_count": 47,
     "metadata": {},
     "output_type": "execute_result"
    }
   ],
   "source": [
    "df_demo.dtypes"
   ]
  },
  {
   "cell_type": "code",
   "execution_count": 9,
   "metadata": {},
   "outputs": [
    {
     "data": {
      "text/html": [
       "<div>\n",
       "<style scoped>\n",
       "    .dataframe tbody tr th:only-of-type {\n",
       "        vertical-align: middle;\n",
       "    }\n",
       "\n",
       "    .dataframe tbody tr th {\n",
       "        vertical-align: top;\n",
       "    }\n",
       "\n",
       "    .dataframe thead th {\n",
       "        text-align: right;\n",
       "    }\n",
       "</style>\n",
       "<table border=\"1\" class=\"dataframe\">\n",
       "  <thead>\n",
       "    <tr style=\"text-align: right;\">\n",
       "      <th></th>\n",
       "      <th>client_id</th>\n",
       "      <th>Variation</th>\n",
       "    </tr>\n",
       "  </thead>\n",
       "  <tbody>\n",
       "    <tr>\n",
       "      <th>0</th>\n",
       "      <td>9988021</td>\n",
       "      <td>Test</td>\n",
       "    </tr>\n",
       "    <tr>\n",
       "      <th>1</th>\n",
       "      <td>8320017</td>\n",
       "      <td>Test</td>\n",
       "    </tr>\n",
       "    <tr>\n",
       "      <th>2</th>\n",
       "      <td>4033851</td>\n",
       "      <td>Control</td>\n",
       "    </tr>\n",
       "    <tr>\n",
       "      <th>3</th>\n",
       "      <td>1982004</td>\n",
       "      <td>Test</td>\n",
       "    </tr>\n",
       "    <tr>\n",
       "      <th>4</th>\n",
       "      <td>9294070</td>\n",
       "      <td>Control</td>\n",
       "    </tr>\n",
       "    <tr>\n",
       "      <th>...</th>\n",
       "      <td>...</td>\n",
       "      <td>...</td>\n",
       "    </tr>\n",
       "    <tr>\n",
       "      <th>70604</th>\n",
       "      <td>2443347</td>\n",
       "      <td>NaN</td>\n",
       "    </tr>\n",
       "    <tr>\n",
       "      <th>70605</th>\n",
       "      <td>8788427</td>\n",
       "      <td>NaN</td>\n",
       "    </tr>\n",
       "    <tr>\n",
       "      <th>70606</th>\n",
       "      <td>266828</td>\n",
       "      <td>NaN</td>\n",
       "    </tr>\n",
       "    <tr>\n",
       "      <th>70607</th>\n",
       "      <td>1266421</td>\n",
       "      <td>NaN</td>\n",
       "    </tr>\n",
       "    <tr>\n",
       "      <th>70608</th>\n",
       "      <td>9895983</td>\n",
       "      <td>NaN</td>\n",
       "    </tr>\n",
       "  </tbody>\n",
       "</table>\n",
       "<p>70609 rows × 2 columns</p>\n",
       "</div>"
      ],
      "text/plain": [
       "       client_id Variation\n",
       "0        9988021      Test\n",
       "1        8320017      Test\n",
       "2        4033851   Control\n",
       "3        1982004      Test\n",
       "4        9294070   Control\n",
       "...          ...       ...\n",
       "70604    2443347       NaN\n",
       "70605    8788427       NaN\n",
       "70606     266828       NaN\n",
       "70607    1266421       NaN\n",
       "70608    9895983       NaN\n",
       "\n",
       "[70609 rows x 2 columns]"
      ]
     },
     "execution_count": 9,
     "metadata": {},
     "output_type": "execute_result"
    }
   ],
   "source": [
    "df_experiment_clients = pd.read_csv('df_final_experiment_clients.csv')\n",
    "df_experiment_clients"
   ]
  },
  {
   "cell_type": "code",
   "execution_count": 10,
   "metadata": {},
   "outputs": [
    {
     "data": {
      "text/html": [
       "<div>\n",
       "<style scoped>\n",
       "    .dataframe tbody tr th:only-of-type {\n",
       "        vertical-align: middle;\n",
       "    }\n",
       "\n",
       "    .dataframe tbody tr th {\n",
       "        vertical-align: top;\n",
       "    }\n",
       "\n",
       "    .dataframe thead th {\n",
       "        text-align: right;\n",
       "    }\n",
       "</style>\n",
       "<table border=\"1\" class=\"dataframe\">\n",
       "  <thead>\n",
       "    <tr style=\"text-align: right;\">\n",
       "      <th></th>\n",
       "      <th>client_id</th>\n",
       "      <th>variation</th>\n",
       "    </tr>\n",
       "  </thead>\n",
       "  <tbody>\n",
       "    <tr>\n",
       "      <th>0</th>\n",
       "      <td>9988021</td>\n",
       "      <td>Test</td>\n",
       "    </tr>\n",
       "    <tr>\n",
       "      <th>1</th>\n",
       "      <td>8320017</td>\n",
       "      <td>Test</td>\n",
       "    </tr>\n",
       "    <tr>\n",
       "      <th>2</th>\n",
       "      <td>4033851</td>\n",
       "      <td>Control</td>\n",
       "    </tr>\n",
       "    <tr>\n",
       "      <th>3</th>\n",
       "      <td>1982004</td>\n",
       "      <td>Test</td>\n",
       "    </tr>\n",
       "    <tr>\n",
       "      <th>4</th>\n",
       "      <td>9294070</td>\n",
       "      <td>Control</td>\n",
       "    </tr>\n",
       "    <tr>\n",
       "      <th>...</th>\n",
       "      <td>...</td>\n",
       "      <td>...</td>\n",
       "    </tr>\n",
       "    <tr>\n",
       "      <th>70604</th>\n",
       "      <td>2443347</td>\n",
       "      <td>NaN</td>\n",
       "    </tr>\n",
       "    <tr>\n",
       "      <th>70605</th>\n",
       "      <td>8788427</td>\n",
       "      <td>NaN</td>\n",
       "    </tr>\n",
       "    <tr>\n",
       "      <th>70606</th>\n",
       "      <td>266828</td>\n",
       "      <td>NaN</td>\n",
       "    </tr>\n",
       "    <tr>\n",
       "      <th>70607</th>\n",
       "      <td>1266421</td>\n",
       "      <td>NaN</td>\n",
       "    </tr>\n",
       "    <tr>\n",
       "      <th>70608</th>\n",
       "      <td>9895983</td>\n",
       "      <td>NaN</td>\n",
       "    </tr>\n",
       "  </tbody>\n",
       "</table>\n",
       "<p>70609 rows × 2 columns</p>\n",
       "</div>"
      ],
      "text/plain": [
       "       client_id variation\n",
       "0        9988021      Test\n",
       "1        8320017      Test\n",
       "2        4033851   Control\n",
       "3        1982004      Test\n",
       "4        9294070   Control\n",
       "...          ...       ...\n",
       "70604    2443347       NaN\n",
       "70605    8788427       NaN\n",
       "70606     266828       NaN\n",
       "70607    1266421       NaN\n",
       "70608    9895983       NaN\n",
       "\n",
       "[70609 rows x 2 columns]"
      ]
     },
     "execution_count": 10,
     "metadata": {},
     "output_type": "execute_result"
    }
   ],
   "source": [
    "df_experiment_clients = df_experiment_clients.rename(columns={'Variation': 'variation'})\n",
    "df_experiment_clients"
   ]
  },
  {
   "cell_type": "code",
   "execution_count": 11,
   "metadata": {},
   "outputs": [
    {
     "data": {
      "text/html": [
       "<div>\n",
       "<style scoped>\n",
       "    .dataframe tbody tr th:only-of-type {\n",
       "        vertical-align: middle;\n",
       "    }\n",
       "\n",
       "    .dataframe tbody tr th {\n",
       "        vertical-align: top;\n",
       "    }\n",
       "\n",
       "    .dataframe thead th {\n",
       "        text-align: right;\n",
       "    }\n",
       "</style>\n",
       "<table border=\"1\" class=\"dataframe\">\n",
       "  <thead>\n",
       "    <tr style=\"text-align: right;\">\n",
       "      <th></th>\n",
       "      <th>client_id</th>\n",
       "      <th>variation</th>\n",
       "    </tr>\n",
       "  </thead>\n",
       "  <tbody>\n",
       "    <tr>\n",
       "      <th>0</th>\n",
       "      <td>9988021</td>\n",
       "      <td>Test</td>\n",
       "    </tr>\n",
       "    <tr>\n",
       "      <th>1</th>\n",
       "      <td>8320017</td>\n",
       "      <td>Test</td>\n",
       "    </tr>\n",
       "    <tr>\n",
       "      <th>2</th>\n",
       "      <td>4033851</td>\n",
       "      <td>Control</td>\n",
       "    </tr>\n",
       "    <tr>\n",
       "      <th>3</th>\n",
       "      <td>1982004</td>\n",
       "      <td>Test</td>\n",
       "    </tr>\n",
       "    <tr>\n",
       "      <th>4</th>\n",
       "      <td>9294070</td>\n",
       "      <td>Control</td>\n",
       "    </tr>\n",
       "    <tr>\n",
       "      <th>...</th>\n",
       "      <td>...</td>\n",
       "      <td>...</td>\n",
       "    </tr>\n",
       "    <tr>\n",
       "      <th>50495</th>\n",
       "      <td>393005</td>\n",
       "      <td>Control</td>\n",
       "    </tr>\n",
       "    <tr>\n",
       "      <th>50496</th>\n",
       "      <td>2908510</td>\n",
       "      <td>Control</td>\n",
       "    </tr>\n",
       "    <tr>\n",
       "      <th>50497</th>\n",
       "      <td>7230446</td>\n",
       "      <td>Test</td>\n",
       "    </tr>\n",
       "    <tr>\n",
       "      <th>50498</th>\n",
       "      <td>5230357</td>\n",
       "      <td>Test</td>\n",
       "    </tr>\n",
       "    <tr>\n",
       "      <th>50499</th>\n",
       "      <td>6334360</td>\n",
       "      <td>Test</td>\n",
       "    </tr>\n",
       "  </tbody>\n",
       "</table>\n",
       "<p>50500 rows × 2 columns</p>\n",
       "</div>"
      ],
      "text/plain": [
       "       client_id variation\n",
       "0        9988021      Test\n",
       "1        8320017      Test\n",
       "2        4033851   Control\n",
       "3        1982004      Test\n",
       "4        9294070   Control\n",
       "...          ...       ...\n",
       "50495     393005   Control\n",
       "50496    2908510   Control\n",
       "50497    7230446      Test\n",
       "50498    5230357      Test\n",
       "50499    6334360      Test\n",
       "\n",
       "[50500 rows x 2 columns]"
      ]
     },
     "execution_count": 11,
     "metadata": {},
     "output_type": "execute_result"
    }
   ],
   "source": [
    "df_experiment_clients = df_experiment_clients.dropna()\n",
    "df_experiment_clients"
   ]
  },
  {
   "cell_type": "code",
   "execution_count": 12,
   "metadata": {},
   "outputs": [
    {
     "data": {
      "text/plain": [
       "0"
      ]
     },
     "execution_count": 12,
     "metadata": {},
     "output_type": "execute_result"
    }
   ],
   "source": [
    "df_experiment_clients.isnull().any(axis=1).sum()"
   ]
  },
  {
   "cell_type": "code",
   "execution_count": 13,
   "metadata": {},
   "outputs": [
    {
     "data": {
      "text/plain": [
       "client_id     int64\n",
       "variation    object\n",
       "dtype: object"
      ]
     },
     "execution_count": 13,
     "metadata": {},
     "output_type": "execute_result"
    }
   ],
   "source": [
    "df_experiment_clients.dtypes"
   ]
  },
  {
   "cell_type": "code",
   "execution_count": null,
   "metadata": {},
   "outputs": [],
   "source": []
  },
  {
   "cell_type": "code",
   "execution_count": 14,
   "metadata": {},
   "outputs": [
    {
     "data": {
      "text/html": [
       "<div>\n",
       "<style scoped>\n",
       "    .dataframe tbody tr th:only-of-type {\n",
       "        vertical-align: middle;\n",
       "    }\n",
       "\n",
       "    .dataframe tbody tr th {\n",
       "        vertical-align: top;\n",
       "    }\n",
       "\n",
       "    .dataframe thead th {\n",
       "        text-align: right;\n",
       "    }\n",
       "</style>\n",
       "<table border=\"1\" class=\"dataframe\">\n",
       "  <thead>\n",
       "    <tr style=\"text-align: right;\">\n",
       "      <th></th>\n",
       "      <th>client_id</th>\n",
       "      <th>visitor_id</th>\n",
       "      <th>visit_id</th>\n",
       "      <th>process_step</th>\n",
       "      <th>date_time</th>\n",
       "    </tr>\n",
       "  </thead>\n",
       "  <tbody>\n",
       "    <tr>\n",
       "      <th>0</th>\n",
       "      <td>9988021</td>\n",
       "      <td>580560515_7732621733</td>\n",
       "      <td>781255054_21935453173_531117</td>\n",
       "      <td>step_3</td>\n",
       "      <td>2017-04-17 15:27:07</td>\n",
       "    </tr>\n",
       "    <tr>\n",
       "      <th>1</th>\n",
       "      <td>9988021</td>\n",
       "      <td>580560515_7732621733</td>\n",
       "      <td>781255054_21935453173_531117</td>\n",
       "      <td>step_2</td>\n",
       "      <td>2017-04-17 15:26:51</td>\n",
       "    </tr>\n",
       "    <tr>\n",
       "      <th>2</th>\n",
       "      <td>9988021</td>\n",
       "      <td>580560515_7732621733</td>\n",
       "      <td>781255054_21935453173_531117</td>\n",
       "      <td>step_3</td>\n",
       "      <td>2017-04-17 15:19:22</td>\n",
       "    </tr>\n",
       "    <tr>\n",
       "      <th>3</th>\n",
       "      <td>9988021</td>\n",
       "      <td>580560515_7732621733</td>\n",
       "      <td>781255054_21935453173_531117</td>\n",
       "      <td>step_2</td>\n",
       "      <td>2017-04-17 15:19:13</td>\n",
       "    </tr>\n",
       "    <tr>\n",
       "      <th>4</th>\n",
       "      <td>9988021</td>\n",
       "      <td>580560515_7732621733</td>\n",
       "      <td>781255054_21935453173_531117</td>\n",
       "      <td>step_3</td>\n",
       "      <td>2017-04-17 15:18:04</td>\n",
       "    </tr>\n",
       "    <tr>\n",
       "      <th>...</th>\n",
       "      <td>...</td>\n",
       "      <td>...</td>\n",
       "      <td>...</td>\n",
       "      <td>...</td>\n",
       "      <td>...</td>\n",
       "    </tr>\n",
       "    <tr>\n",
       "      <th>343136</th>\n",
       "      <td>2443347</td>\n",
       "      <td>465784886_73090545671</td>\n",
       "      <td>136329900_10529659391_316129</td>\n",
       "      <td>confirm</td>\n",
       "      <td>2017-03-31 15:15:46</td>\n",
       "    </tr>\n",
       "    <tr>\n",
       "      <th>343137</th>\n",
       "      <td>2443347</td>\n",
       "      <td>465784886_73090545671</td>\n",
       "      <td>136329900_10529659391_316129</td>\n",
       "      <td>step_3</td>\n",
       "      <td>2017-03-31 15:14:53</td>\n",
       "    </tr>\n",
       "    <tr>\n",
       "      <th>343138</th>\n",
       "      <td>2443347</td>\n",
       "      <td>465784886_73090545671</td>\n",
       "      <td>136329900_10529659391_316129</td>\n",
       "      <td>step_2</td>\n",
       "      <td>2017-03-31 15:12:08</td>\n",
       "    </tr>\n",
       "    <tr>\n",
       "      <th>343139</th>\n",
       "      <td>2443347</td>\n",
       "      <td>465784886_73090545671</td>\n",
       "      <td>136329900_10529659391_316129</td>\n",
       "      <td>step_1</td>\n",
       "      <td>2017-03-31 15:11:37</td>\n",
       "    </tr>\n",
       "    <tr>\n",
       "      <th>343140</th>\n",
       "      <td>2443347</td>\n",
       "      <td>465784886_73090545671</td>\n",
       "      <td>136329900_10529659391_316129</td>\n",
       "      <td>start</td>\n",
       "      <td>2017-03-31 15:10:47</td>\n",
       "    </tr>\n",
       "  </tbody>\n",
       "</table>\n",
       "<p>343141 rows × 5 columns</p>\n",
       "</div>"
      ],
      "text/plain": [
       "        client_id             visitor_id                      visit_id  \\\n",
       "0         9988021   580560515_7732621733  781255054_21935453173_531117   \n",
       "1         9988021   580560515_7732621733  781255054_21935453173_531117   \n",
       "2         9988021   580560515_7732621733  781255054_21935453173_531117   \n",
       "3         9988021   580560515_7732621733  781255054_21935453173_531117   \n",
       "4         9988021   580560515_7732621733  781255054_21935453173_531117   \n",
       "...           ...                    ...                           ...   \n",
       "343136    2443347  465784886_73090545671  136329900_10529659391_316129   \n",
       "343137    2443347  465784886_73090545671  136329900_10529659391_316129   \n",
       "343138    2443347  465784886_73090545671  136329900_10529659391_316129   \n",
       "343139    2443347  465784886_73090545671  136329900_10529659391_316129   \n",
       "343140    2443347  465784886_73090545671  136329900_10529659391_316129   \n",
       "\n",
       "       process_step            date_time  \n",
       "0            step_3  2017-04-17 15:27:07  \n",
       "1            step_2  2017-04-17 15:26:51  \n",
       "2            step_3  2017-04-17 15:19:22  \n",
       "3            step_2  2017-04-17 15:19:13  \n",
       "4            step_3  2017-04-17 15:18:04  \n",
       "...             ...                  ...  \n",
       "343136      confirm  2017-03-31 15:15:46  \n",
       "343137       step_3  2017-03-31 15:14:53  \n",
       "343138       step_2  2017-03-31 15:12:08  \n",
       "343139       step_1  2017-03-31 15:11:37  \n",
       "343140        start  2017-03-31 15:10:47  \n",
       "\n",
       "[343141 rows x 5 columns]"
      ]
     },
     "execution_count": 14,
     "metadata": {},
     "output_type": "execute_result"
    }
   ],
   "source": [
    "df_web_data1 = pd.read_csv('df_final_web_data_pt_1.csv')\n",
    "df_web_data1"
   ]
  },
  {
   "cell_type": "code",
   "execution_count": 54,
   "metadata": {},
   "outputs": [
    {
     "data": {
      "text/plain": [
       "client_id        int64\n",
       "visitor_id      object\n",
       "visit_id        object\n",
       "process_step    object\n",
       "date_time       object\n",
       "dtype: object"
      ]
     },
     "execution_count": 54,
     "metadata": {},
     "output_type": "execute_result"
    }
   ],
   "source": [
    "df_web_data1.dtypes"
   ]
  },
  {
   "cell_type": "code",
   "execution_count": 15,
   "metadata": {},
   "outputs": [
    {
     "data": {
      "text/html": [
       "<div>\n",
       "<style scoped>\n",
       "    .dataframe tbody tr th:only-of-type {\n",
       "        vertical-align: middle;\n",
       "    }\n",
       "\n",
       "    .dataframe tbody tr th {\n",
       "        vertical-align: top;\n",
       "    }\n",
       "\n",
       "    .dataframe thead th {\n",
       "        text-align: right;\n",
       "    }\n",
       "</style>\n",
       "<table border=\"1\" class=\"dataframe\">\n",
       "  <thead>\n",
       "    <tr style=\"text-align: right;\">\n",
       "      <th></th>\n",
       "      <th>client_id</th>\n",
       "      <th>visitor_id</th>\n",
       "      <th>visit_id</th>\n",
       "      <th>process_step</th>\n",
       "      <th>date_time</th>\n",
       "    </tr>\n",
       "  </thead>\n",
       "  <tbody>\n",
       "    <tr>\n",
       "      <th>0</th>\n",
       "      <td>763412</td>\n",
       "      <td>601952081_10457207388</td>\n",
       "      <td>397475557_40440946728_419634</td>\n",
       "      <td>confirm</td>\n",
       "      <td>2017-06-06 08:56:00</td>\n",
       "    </tr>\n",
       "    <tr>\n",
       "      <th>1</th>\n",
       "      <td>6019349</td>\n",
       "      <td>442094451_91531546617</td>\n",
       "      <td>154620534_35331068705_522317</td>\n",
       "      <td>confirm</td>\n",
       "      <td>2017-06-01 11:59:27</td>\n",
       "    </tr>\n",
       "    <tr>\n",
       "      <th>2</th>\n",
       "      <td>6019349</td>\n",
       "      <td>442094451_91531546617</td>\n",
       "      <td>154620534_35331068705_522317</td>\n",
       "      <td>step_3</td>\n",
       "      <td>2017-06-01 11:58:48</td>\n",
       "    </tr>\n",
       "    <tr>\n",
       "      <th>3</th>\n",
       "      <td>6019349</td>\n",
       "      <td>442094451_91531546617</td>\n",
       "      <td>154620534_35331068705_522317</td>\n",
       "      <td>step_2</td>\n",
       "      <td>2017-06-01 11:58:08</td>\n",
       "    </tr>\n",
       "    <tr>\n",
       "      <th>4</th>\n",
       "      <td>6019349</td>\n",
       "      <td>442094451_91531546617</td>\n",
       "      <td>154620534_35331068705_522317</td>\n",
       "      <td>step_1</td>\n",
       "      <td>2017-06-01 11:57:58</td>\n",
       "    </tr>\n",
       "    <tr>\n",
       "      <th>...</th>\n",
       "      <td>...</td>\n",
       "      <td>...</td>\n",
       "      <td>...</td>\n",
       "      <td>...</td>\n",
       "      <td>...</td>\n",
       "    </tr>\n",
       "    <tr>\n",
       "      <th>412259</th>\n",
       "      <td>9668240</td>\n",
       "      <td>388766751_9038881013</td>\n",
       "      <td>922267647_3096648104_968866</td>\n",
       "      <td>start</td>\n",
       "      <td>2017-05-24 18:46:10</td>\n",
       "    </tr>\n",
       "    <tr>\n",
       "      <th>412260</th>\n",
       "      <td>9668240</td>\n",
       "      <td>388766751_9038881013</td>\n",
       "      <td>922267647_3096648104_968866</td>\n",
       "      <td>start</td>\n",
       "      <td>2017-05-24 18:45:29</td>\n",
       "    </tr>\n",
       "    <tr>\n",
       "      <th>412261</th>\n",
       "      <td>9668240</td>\n",
       "      <td>388766751_9038881013</td>\n",
       "      <td>922267647_3096648104_968866</td>\n",
       "      <td>step_1</td>\n",
       "      <td>2017-05-24 18:44:51</td>\n",
       "    </tr>\n",
       "    <tr>\n",
       "      <th>412262</th>\n",
       "      <td>9668240</td>\n",
       "      <td>388766751_9038881013</td>\n",
       "      <td>922267647_3096648104_968866</td>\n",
       "      <td>start</td>\n",
       "      <td>2017-05-24 18:44:34</td>\n",
       "    </tr>\n",
       "    <tr>\n",
       "      <th>412263</th>\n",
       "      <td>674799</td>\n",
       "      <td>947159805_81558194550</td>\n",
       "      <td>86152093_47511127657_716022</td>\n",
       "      <td>start</td>\n",
       "      <td>2017-06-03 12:17:09</td>\n",
       "    </tr>\n",
       "  </tbody>\n",
       "</table>\n",
       "<p>412264 rows × 5 columns</p>\n",
       "</div>"
      ],
      "text/plain": [
       "        client_id             visitor_id                      visit_id  \\\n",
       "0          763412  601952081_10457207388  397475557_40440946728_419634   \n",
       "1         6019349  442094451_91531546617  154620534_35331068705_522317   \n",
       "2         6019349  442094451_91531546617  154620534_35331068705_522317   \n",
       "3         6019349  442094451_91531546617  154620534_35331068705_522317   \n",
       "4         6019349  442094451_91531546617  154620534_35331068705_522317   \n",
       "...           ...                    ...                           ...   \n",
       "412259    9668240   388766751_9038881013   922267647_3096648104_968866   \n",
       "412260    9668240   388766751_9038881013   922267647_3096648104_968866   \n",
       "412261    9668240   388766751_9038881013   922267647_3096648104_968866   \n",
       "412262    9668240   388766751_9038881013   922267647_3096648104_968866   \n",
       "412263     674799  947159805_81558194550   86152093_47511127657_716022   \n",
       "\n",
       "       process_step            date_time  \n",
       "0           confirm  2017-06-06 08:56:00  \n",
       "1           confirm  2017-06-01 11:59:27  \n",
       "2            step_3  2017-06-01 11:58:48  \n",
       "3            step_2  2017-06-01 11:58:08  \n",
       "4            step_1  2017-06-01 11:57:58  \n",
       "...             ...                  ...  \n",
       "412259        start  2017-05-24 18:46:10  \n",
       "412260        start  2017-05-24 18:45:29  \n",
       "412261       step_1  2017-05-24 18:44:51  \n",
       "412262        start  2017-05-24 18:44:34  \n",
       "412263        start  2017-06-03 12:17:09  \n",
       "\n",
       "[412264 rows x 5 columns]"
      ]
     },
     "execution_count": 15,
     "metadata": {},
     "output_type": "execute_result"
    }
   ],
   "source": [
    "df_web_data2 = pd.read_csv('df_final_web_data_pt_2.csv')\n",
    "df_web_data2"
   ]
  },
  {
   "cell_type": "code",
   "execution_count": 16,
   "metadata": {},
   "outputs": [
    {
     "data": {
      "text/plain": [
       "client_id        int64\n",
       "visitor_id      object\n",
       "visit_id        object\n",
       "process_step    object\n",
       "date_time       object\n",
       "dtype: object"
      ]
     },
     "execution_count": 16,
     "metadata": {},
     "output_type": "execute_result"
    }
   ],
   "source": [
    "df_web_data2.dtypes"
   ]
  },
  {
   "cell_type": "code",
   "execution_count": 17,
   "metadata": {},
   "outputs": [
    {
     "data": {
      "text/html": [
       "<div>\n",
       "<style scoped>\n",
       "    .dataframe tbody tr th:only-of-type {\n",
       "        vertical-align: middle;\n",
       "    }\n",
       "\n",
       "    .dataframe tbody tr th {\n",
       "        vertical-align: top;\n",
       "    }\n",
       "\n",
       "    .dataframe thead th {\n",
       "        text-align: right;\n",
       "    }\n",
       "</style>\n",
       "<table border=\"1\" class=\"dataframe\">\n",
       "  <thead>\n",
       "    <tr style=\"text-align: right;\">\n",
       "      <th></th>\n",
       "      <th>client_id</th>\n",
       "      <th>visitor_id</th>\n",
       "      <th>visit_id</th>\n",
       "      <th>process_step</th>\n",
       "      <th>date_time</th>\n",
       "    </tr>\n",
       "  </thead>\n",
       "  <tbody>\n",
       "    <tr>\n",
       "      <th>0</th>\n",
       "      <td>9988021</td>\n",
       "      <td>580560515_7732621733</td>\n",
       "      <td>781255054_21935453173_531117</td>\n",
       "      <td>step_3</td>\n",
       "      <td>2017-04-17 15:27:07</td>\n",
       "    </tr>\n",
       "    <tr>\n",
       "      <th>1</th>\n",
       "      <td>9988021</td>\n",
       "      <td>580560515_7732621733</td>\n",
       "      <td>781255054_21935453173_531117</td>\n",
       "      <td>step_2</td>\n",
       "      <td>2017-04-17 15:26:51</td>\n",
       "    </tr>\n",
       "    <tr>\n",
       "      <th>2</th>\n",
       "      <td>9988021</td>\n",
       "      <td>580560515_7732621733</td>\n",
       "      <td>781255054_21935453173_531117</td>\n",
       "      <td>step_3</td>\n",
       "      <td>2017-04-17 15:19:22</td>\n",
       "    </tr>\n",
       "    <tr>\n",
       "      <th>3</th>\n",
       "      <td>9988021</td>\n",
       "      <td>580560515_7732621733</td>\n",
       "      <td>781255054_21935453173_531117</td>\n",
       "      <td>step_2</td>\n",
       "      <td>2017-04-17 15:19:13</td>\n",
       "    </tr>\n",
       "    <tr>\n",
       "      <th>4</th>\n",
       "      <td>9988021</td>\n",
       "      <td>580560515_7732621733</td>\n",
       "      <td>781255054_21935453173_531117</td>\n",
       "      <td>step_3</td>\n",
       "      <td>2017-04-17 15:18:04</td>\n",
       "    </tr>\n",
       "    <tr>\n",
       "      <th>...</th>\n",
       "      <td>...</td>\n",
       "      <td>...</td>\n",
       "      <td>...</td>\n",
       "      <td>...</td>\n",
       "      <td>...</td>\n",
       "    </tr>\n",
       "    <tr>\n",
       "      <th>755400</th>\n",
       "      <td>9668240</td>\n",
       "      <td>388766751_9038881013</td>\n",
       "      <td>922267647_3096648104_968866</td>\n",
       "      <td>start</td>\n",
       "      <td>2017-05-24 18:46:10</td>\n",
       "    </tr>\n",
       "    <tr>\n",
       "      <th>755401</th>\n",
       "      <td>9668240</td>\n",
       "      <td>388766751_9038881013</td>\n",
       "      <td>922267647_3096648104_968866</td>\n",
       "      <td>start</td>\n",
       "      <td>2017-05-24 18:45:29</td>\n",
       "    </tr>\n",
       "    <tr>\n",
       "      <th>755402</th>\n",
       "      <td>9668240</td>\n",
       "      <td>388766751_9038881013</td>\n",
       "      <td>922267647_3096648104_968866</td>\n",
       "      <td>step_1</td>\n",
       "      <td>2017-05-24 18:44:51</td>\n",
       "    </tr>\n",
       "    <tr>\n",
       "      <th>755403</th>\n",
       "      <td>9668240</td>\n",
       "      <td>388766751_9038881013</td>\n",
       "      <td>922267647_3096648104_968866</td>\n",
       "      <td>start</td>\n",
       "      <td>2017-05-24 18:44:34</td>\n",
       "    </tr>\n",
       "    <tr>\n",
       "      <th>755404</th>\n",
       "      <td>674799</td>\n",
       "      <td>947159805_81558194550</td>\n",
       "      <td>86152093_47511127657_716022</td>\n",
       "      <td>start</td>\n",
       "      <td>2017-06-03 12:17:09</td>\n",
       "    </tr>\n",
       "  </tbody>\n",
       "</table>\n",
       "<p>755405 rows × 5 columns</p>\n",
       "</div>"
      ],
      "text/plain": [
       "        client_id             visitor_id                      visit_id  \\\n",
       "0         9988021   580560515_7732621733  781255054_21935453173_531117   \n",
       "1         9988021   580560515_7732621733  781255054_21935453173_531117   \n",
       "2         9988021   580560515_7732621733  781255054_21935453173_531117   \n",
       "3         9988021   580560515_7732621733  781255054_21935453173_531117   \n",
       "4         9988021   580560515_7732621733  781255054_21935453173_531117   \n",
       "...           ...                    ...                           ...   \n",
       "755400    9668240   388766751_9038881013   922267647_3096648104_968866   \n",
       "755401    9668240   388766751_9038881013   922267647_3096648104_968866   \n",
       "755402    9668240   388766751_9038881013   922267647_3096648104_968866   \n",
       "755403    9668240   388766751_9038881013   922267647_3096648104_968866   \n",
       "755404     674799  947159805_81558194550   86152093_47511127657_716022   \n",
       "\n",
       "       process_step            date_time  \n",
       "0            step_3  2017-04-17 15:27:07  \n",
       "1            step_2  2017-04-17 15:26:51  \n",
       "2            step_3  2017-04-17 15:19:22  \n",
       "3            step_2  2017-04-17 15:19:13  \n",
       "4            step_3  2017-04-17 15:18:04  \n",
       "...             ...                  ...  \n",
       "755400        start  2017-05-24 18:46:10  \n",
       "755401        start  2017-05-24 18:45:29  \n",
       "755402       step_1  2017-05-24 18:44:51  \n",
       "755403        start  2017-05-24 18:44:34  \n",
       "755404        start  2017-06-03 12:17:09  \n",
       "\n",
       "[755405 rows x 5 columns]"
      ]
     },
     "execution_count": 17,
     "metadata": {},
     "output_type": "execute_result"
    }
   ],
   "source": [
    "# concatenar las tablas web data\n",
    "\n",
    "df_web_data = pd.concat([df_web_data1, df_web_data2], ignore_index=True)\n",
    "df_web_data"
   ]
  },
  {
   "cell_type": "code",
   "execution_count": 18,
   "metadata": {},
   "outputs": [
    {
     "data": {
      "text/plain": [
       "0"
      ]
     },
     "execution_count": 18,
     "metadata": {},
     "output_type": "execute_result"
    }
   ],
   "source": [
    "df_web_data.isnull().any(axis=1).sum()"
   ]
  },
  {
   "cell_type": "code",
   "execution_count": 19,
   "metadata": {},
   "outputs": [
    {
     "name": "stderr",
     "output_type": "stream",
     "text": [
      "C:\\Users\\bruno\\AppData\\Local\\Temp\\ipykernel_23188\\2350653235.py:1: SettingWithCopyWarning: \n",
      "A value is trying to be set on a copy of a slice from a DataFrame.\n",
      "Try using .loc[row_indexer,col_indexer] = value instead\n",
      "\n",
      "See the caveats in the documentation: https://pandas.pydata.org/pandas-docs/stable/user_guide/indexing.html#returning-a-view-versus-a-copy\n",
      "  df_demo['client_id'] = df_demo['client_id'].astype(int)\n",
      "C:\\Users\\bruno\\AppData\\Local\\Temp\\ipykernel_23188\\2350653235.py:2: SettingWithCopyWarning: \n",
      "A value is trying to be set on a copy of a slice from a DataFrame.\n",
      "Try using .loc[row_indexer,col_indexer] = value instead\n",
      "\n",
      "See the caveats in the documentation: https://pandas.pydata.org/pandas-docs/stable/user_guide/indexing.html#returning-a-view-versus-a-copy\n",
      "  df_experiment_clients['client_id'] = df_experiment_clients['client_id'].astype(int)\n"
     ]
    }
   ],
   "source": [
    "df_demo['client_id'] = df_demo['client_id'].astype(int)\n",
    "df_experiment_clients['client_id'] = df_experiment_clients['client_id'].astype(int)\n",
    "df_web_data['client_id'] = df_web_data['client_id'].astype(int)"
   ]
  },
  {
   "cell_type": "code",
   "execution_count": 63,
   "metadata": {},
   "outputs": [
    {
     "data": {
      "text/html": [
       "<div>\n",
       "<style scoped>\n",
       "    .dataframe tbody tr th:only-of-type {\n",
       "        vertical-align: middle;\n",
       "    }\n",
       "\n",
       "    .dataframe tbody tr th {\n",
       "        vertical-align: top;\n",
       "    }\n",
       "\n",
       "    .dataframe thead th {\n",
       "        text-align: right;\n",
       "    }\n",
       "</style>\n",
       "<table border=\"1\" class=\"dataframe\">\n",
       "  <thead>\n",
       "    <tr style=\"text-align: right;\">\n",
       "      <th></th>\n",
       "      <th>gendr</th>\n",
       "      <th>variation</th>\n",
       "      <th>visitor_id</th>\n",
       "      <th>visit_id</th>\n",
       "      <th>process_step</th>\n",
       "      <th>date_time</th>\n",
       "    </tr>\n",
       "  </thead>\n",
       "  <tbody>\n",
       "    <tr>\n",
       "      <th>0</th>\n",
       "      <td>M</td>\n",
       "      <td>NaN</td>\n",
       "      <td>201385055_71273495308</td>\n",
       "      <td>749567106_99161211863_557568</td>\n",
       "      <td>confirm</td>\n",
       "      <td>2017-04-12 20:23:09</td>\n",
       "    </tr>\n",
       "    <tr>\n",
       "      <th>2</th>\n",
       "      <td>M</td>\n",
       "      <td>NaN</td>\n",
       "      <td>201385055_71273495308</td>\n",
       "      <td>749567106_99161211863_557568</td>\n",
       "      <td>step_2</td>\n",
       "      <td>2017-04-12 20:20:31</td>\n",
       "    </tr>\n",
       "    <tr>\n",
       "      <th>3</th>\n",
       "      <td>M</td>\n",
       "      <td>NaN</td>\n",
       "      <td>201385055_71273495308</td>\n",
       "      <td>749567106_99161211863_557568</td>\n",
       "      <td>step_1</td>\n",
       "      <td>2017-04-12 20:19:45</td>\n",
       "    </tr>\n",
       "    <tr>\n",
       "      <th>4</th>\n",
       "      <td>M</td>\n",
       "      <td>NaN</td>\n",
       "      <td>201385055_71273495308</td>\n",
       "      <td>749567106_99161211863_557568</td>\n",
       "      <td>start</td>\n",
       "      <td>2017-04-12 20:19:36</td>\n",
       "    </tr>\n",
       "    <tr>\n",
       "      <th>5</th>\n",
       "      <td>NaN</td>\n",
       "      <td>NaN</td>\n",
       "      <td>64757908_3400128256</td>\n",
       "      <td>649044751_80905125055_554468</td>\n",
       "      <td>start</td>\n",
       "      <td>2017-06-01 07:42:43</td>\n",
       "    </tr>\n",
       "    <tr>\n",
       "      <th>...</th>\n",
       "      <td>...</td>\n",
       "      <td>...</td>\n",
       "      <td>...</td>\n",
       "      <td>...</td>\n",
       "      <td>...</td>\n",
       "      <td>...</td>\n",
       "    </tr>\n",
       "    <tr>\n",
       "      <th>755400</th>\n",
       "      <td>NaN</td>\n",
       "      <td>NaN</td>\n",
       "      <td>738878760_1556639849</td>\n",
       "      <td>931268933_219402947_599432</td>\n",
       "      <td>step_3</td>\n",
       "      <td>2017-06-01 22:44:58</td>\n",
       "    </tr>\n",
       "    <tr>\n",
       "      <th>755401</th>\n",
       "      <td>NaN</td>\n",
       "      <td>NaN</td>\n",
       "      <td>738878760_1556639849</td>\n",
       "      <td>931268933_219402947_599432</td>\n",
       "      <td>step_2</td>\n",
       "      <td>2017-06-01 22:41:47</td>\n",
       "    </tr>\n",
       "    <tr>\n",
       "      <th>755402</th>\n",
       "      <td>NaN</td>\n",
       "      <td>NaN</td>\n",
       "      <td>738878760_1556639849</td>\n",
       "      <td>931268933_219402947_599432</td>\n",
       "      <td>step_1</td>\n",
       "      <td>2017-06-01 22:41:28</td>\n",
       "    </tr>\n",
       "    <tr>\n",
       "      <th>755403</th>\n",
       "      <td>NaN</td>\n",
       "      <td>NaN</td>\n",
       "      <td>738878760_1556639849</td>\n",
       "      <td>931268933_219402947_599432</td>\n",
       "      <td>step_1</td>\n",
       "      <td>2017-06-01 22:40:08</td>\n",
       "    </tr>\n",
       "    <tr>\n",
       "      <th>755404</th>\n",
       "      <td>NaN</td>\n",
       "      <td>NaN</td>\n",
       "      <td>738878760_1556639849</td>\n",
       "      <td>931268933_219402947_599432</td>\n",
       "      <td>start</td>\n",
       "      <td>2017-06-01 22:40:01</td>\n",
       "    </tr>\n",
       "  </tbody>\n",
       "</table>\n",
       "<p>755404 rows × 6 columns</p>\n",
       "</div>"
      ],
      "text/plain": [
       "       gendr variation             visitor_id                      visit_id  \\\n",
       "0          M       NaN  201385055_71273495308  749567106_99161211863_557568   \n",
       "2          M       NaN  201385055_71273495308  749567106_99161211863_557568   \n",
       "3          M       NaN  201385055_71273495308  749567106_99161211863_557568   \n",
       "4          M       NaN  201385055_71273495308  749567106_99161211863_557568   \n",
       "5        NaN       NaN    64757908_3400128256  649044751_80905125055_554468   \n",
       "...      ...       ...                    ...                           ...   \n",
       "755400   NaN       NaN   738878760_1556639849    931268933_219402947_599432   \n",
       "755401   NaN       NaN   738878760_1556639849    931268933_219402947_599432   \n",
       "755402   NaN       NaN   738878760_1556639849    931268933_219402947_599432   \n",
       "755403   NaN       NaN   738878760_1556639849    931268933_219402947_599432   \n",
       "755404   NaN       NaN   738878760_1556639849    931268933_219402947_599432   \n",
       "\n",
       "       process_step            date_time  \n",
       "0           confirm  2017-04-12 20:23:09  \n",
       "2            step_2  2017-04-12 20:20:31  \n",
       "3            step_1  2017-04-12 20:19:45  \n",
       "4             start  2017-04-12 20:19:36  \n",
       "5             start  2017-06-01 07:42:43  \n",
       "...             ...                  ...  \n",
       "755400       step_3  2017-06-01 22:44:58  \n",
       "755401       step_2  2017-06-01 22:41:47  \n",
       "755402       step_1  2017-06-01 22:41:28  \n",
       "755403       step_1  2017-06-01 22:40:08  \n",
       "755404        start  2017-06-01 22:40:01  \n",
       "\n",
       "[755404 rows x 6 columns]"
      ]
     },
     "execution_count": 63,
     "metadata": {},
     "output_type": "execute_result"
    }
   ],
   "source": [
    "df_categorical = df_final_merge.select_dtypes(\"object\").drop(index=1)\n",
    "df_categorical"
   ]
  },
  {
   "cell_type": "code",
   "execution_count": 64,
   "metadata": {},
   "outputs": [
    {
     "data": {
      "text/html": [
       "<div>\n",
       "<style scoped>\n",
       "    .dataframe tbody tr th:only-of-type {\n",
       "        vertical-align: middle;\n",
       "    }\n",
       "\n",
       "    .dataframe tbody tr th {\n",
       "        vertical-align: top;\n",
       "    }\n",
       "\n",
       "    .dataframe thead th {\n",
       "        text-align: right;\n",
       "    }\n",
       "</style>\n",
       "<table border=\"1\" class=\"dataframe\">\n",
       "  <thead>\n",
       "    <tr style=\"text-align: right;\">\n",
       "      <th></th>\n",
       "      <th>client_id</th>\n",
       "      <th>clnt_tenure_yr</th>\n",
       "      <th>clnt_tenure_mnth</th>\n",
       "      <th>clnt_age</th>\n",
       "      <th>num_accts</th>\n",
       "      <th>bal</th>\n",
       "      <th>calls_6_mnth</th>\n",
       "      <th>logons_6_mnth</th>\n",
       "    </tr>\n",
       "  </thead>\n",
       "  <tbody>\n",
       "    <tr>\n",
       "      <th>0</th>\n",
       "      <td>169</td>\n",
       "      <td>21.0</td>\n",
       "      <td>262.0</td>\n",
       "      <td>47.0</td>\n",
       "      <td>2.0</td>\n",
       "      <td>501570.72</td>\n",
       "      <td>4.0</td>\n",
       "      <td>4.0</td>\n",
       "    </tr>\n",
       "    <tr>\n",
       "      <th>2</th>\n",
       "      <td>169</td>\n",
       "      <td>21.0</td>\n",
       "      <td>262.0</td>\n",
       "      <td>47.0</td>\n",
       "      <td>2.0</td>\n",
       "      <td>501570.72</td>\n",
       "      <td>4.0</td>\n",
       "      <td>4.0</td>\n",
       "    </tr>\n",
       "    <tr>\n",
       "      <th>3</th>\n",
       "      <td>169</td>\n",
       "      <td>21.0</td>\n",
       "      <td>262.0</td>\n",
       "      <td>47.0</td>\n",
       "      <td>2.0</td>\n",
       "      <td>501570.72</td>\n",
       "      <td>4.0</td>\n",
       "      <td>4.0</td>\n",
       "    </tr>\n",
       "    <tr>\n",
       "      <th>4</th>\n",
       "      <td>169</td>\n",
       "      <td>21.0</td>\n",
       "      <td>262.0</td>\n",
       "      <td>47.0</td>\n",
       "      <td>2.0</td>\n",
       "      <td>501570.72</td>\n",
       "      <td>4.0</td>\n",
       "      <td>4.0</td>\n",
       "    </tr>\n",
       "    <tr>\n",
       "      <th>5</th>\n",
       "      <td>336</td>\n",
       "      <td>NaN</td>\n",
       "      <td>NaN</td>\n",
       "      <td>NaN</td>\n",
       "      <td>NaN</td>\n",
       "      <td>NaN</td>\n",
       "      <td>NaN</td>\n",
       "      <td>NaN</td>\n",
       "    </tr>\n",
       "    <tr>\n",
       "      <th>...</th>\n",
       "      <td>...</td>\n",
       "      <td>...</td>\n",
       "      <td>...</td>\n",
       "      <td>...</td>\n",
       "      <td>...</td>\n",
       "      <td>...</td>\n",
       "      <td>...</td>\n",
       "      <td>...</td>\n",
       "    </tr>\n",
       "    <tr>\n",
       "      <th>755400</th>\n",
       "      <td>9999875</td>\n",
       "      <td>NaN</td>\n",
       "      <td>NaN</td>\n",
       "      <td>NaN</td>\n",
       "      <td>NaN</td>\n",
       "      <td>NaN</td>\n",
       "      <td>NaN</td>\n",
       "      <td>NaN</td>\n",
       "    </tr>\n",
       "    <tr>\n",
       "      <th>755401</th>\n",
       "      <td>9999875</td>\n",
       "      <td>NaN</td>\n",
       "      <td>NaN</td>\n",
       "      <td>NaN</td>\n",
       "      <td>NaN</td>\n",
       "      <td>NaN</td>\n",
       "      <td>NaN</td>\n",
       "      <td>NaN</td>\n",
       "    </tr>\n",
       "    <tr>\n",
       "      <th>755402</th>\n",
       "      <td>9999875</td>\n",
       "      <td>NaN</td>\n",
       "      <td>NaN</td>\n",
       "      <td>NaN</td>\n",
       "      <td>NaN</td>\n",
       "      <td>NaN</td>\n",
       "      <td>NaN</td>\n",
       "      <td>NaN</td>\n",
       "    </tr>\n",
       "    <tr>\n",
       "      <th>755403</th>\n",
       "      <td>9999875</td>\n",
       "      <td>NaN</td>\n",
       "      <td>NaN</td>\n",
       "      <td>NaN</td>\n",
       "      <td>NaN</td>\n",
       "      <td>NaN</td>\n",
       "      <td>NaN</td>\n",
       "      <td>NaN</td>\n",
       "    </tr>\n",
       "    <tr>\n",
       "      <th>755404</th>\n",
       "      <td>9999875</td>\n",
       "      <td>NaN</td>\n",
       "      <td>NaN</td>\n",
       "      <td>NaN</td>\n",
       "      <td>NaN</td>\n",
       "      <td>NaN</td>\n",
       "      <td>NaN</td>\n",
       "      <td>NaN</td>\n",
       "    </tr>\n",
       "  </tbody>\n",
       "</table>\n",
       "<p>755404 rows × 8 columns</p>\n",
       "</div>"
      ],
      "text/plain": [
       "        client_id  clnt_tenure_yr  clnt_tenure_mnth  clnt_age  num_accts  \\\n",
       "0             169            21.0             262.0      47.0        2.0   \n",
       "2             169            21.0             262.0      47.0        2.0   \n",
       "3             169            21.0             262.0      47.0        2.0   \n",
       "4             169            21.0             262.0      47.0        2.0   \n",
       "5             336             NaN               NaN       NaN        NaN   \n",
       "...           ...             ...               ...       ...        ...   \n",
       "755400    9999875             NaN               NaN       NaN        NaN   \n",
       "755401    9999875             NaN               NaN       NaN        NaN   \n",
       "755402    9999875             NaN               NaN       NaN        NaN   \n",
       "755403    9999875             NaN               NaN       NaN        NaN   \n",
       "755404    9999875             NaN               NaN       NaN        NaN   \n",
       "\n",
       "              bal  calls_6_mnth  logons_6_mnth  \n",
       "0       501570.72           4.0            4.0  \n",
       "2       501570.72           4.0            4.0  \n",
       "3       501570.72           4.0            4.0  \n",
       "4       501570.72           4.0            4.0  \n",
       "5             NaN           NaN            NaN  \n",
       "...           ...           ...            ...  \n",
       "755400        NaN           NaN            NaN  \n",
       "755401        NaN           NaN            NaN  \n",
       "755402        NaN           NaN            NaN  \n",
       "755403        NaN           NaN            NaN  \n",
       "755404        NaN           NaN            NaN  \n",
       "\n",
       "[755404 rows x 8 columns]"
      ]
     },
     "execution_count": 64,
     "metadata": {},
     "output_type": "execute_result"
    }
   ],
   "source": [
    "df_numerical = df_final_merge.select_dtypes(\"number\").drop(index=1)\n",
    "df_numerical"
   ]
  },
  {
   "cell_type": "markdown",
   "metadata": {},
   "source": [
    "## Nuevo merge"
   ]
  },
  {
   "cell_type": "code",
   "execution_count": 20,
   "metadata": {},
   "outputs": [
    {
     "data": {
      "text/plain": [
       "(321309, 6)"
      ]
     },
     "execution_count": 20,
     "metadata": {},
     "output_type": "execute_result"
    }
   ],
   "source": [
    "# Realizar el merge usando el tipo de unión 'left'\n",
    "df_merged1 = df_experiment_clients.merge(df_web_data, on='client_id', how='left')\n",
    "df_merged1.dropna(subset=['variation'], inplace=True)\n",
    "df_merged1.shape"
   ]
  },
  {
   "cell_type": "code",
   "execution_count": 21,
   "metadata": {},
   "outputs": [],
   "source": [
    "df_final = df_merged1.merge(df_demo, on='client_id', how='left')"
   ]
  },
  {
   "cell_type": "code",
   "execution_count": 22,
   "metadata": {},
   "outputs": [
    {
     "data": {
      "text/plain": [
       "Index(['client_id', 'variation', 'visitor_id', 'visit_id', 'process_step',\n",
       "       'date_time', 'clnt_tenure_yr', 'clnt_tenure_mnth', 'clnt_age', 'gendr',\n",
       "       'num_accts', 'bal', 'calls_6_mnth', 'logons_6_mnth'],\n",
       "      dtype='object')"
      ]
     },
     "execution_count": 22,
     "metadata": {},
     "output_type": "execute_result"
    }
   ],
   "source": [
    "df_final.columns"
   ]
  },
  {
   "cell_type": "code",
   "execution_count": 28,
   "metadata": {},
   "outputs": [
    {
     "data": {
      "text/html": [
       "<div>\n",
       "<style scoped>\n",
       "    .dataframe tbody tr th:only-of-type {\n",
       "        vertical-align: middle;\n",
       "    }\n",
       "\n",
       "    .dataframe tbody tr th {\n",
       "        vertical-align: top;\n",
       "    }\n",
       "\n",
       "    .dataframe thead th {\n",
       "        text-align: right;\n",
       "    }\n",
       "</style>\n",
       "<table border=\"1\" class=\"dataframe\">\n",
       "  <thead>\n",
       "    <tr style=\"text-align: right;\">\n",
       "      <th></th>\n",
       "      <th>client_id</th>\n",
       "      <th>variation</th>\n",
       "      <th>visitor_id</th>\n",
       "      <th>visit_id</th>\n",
       "      <th>process_step</th>\n",
       "      <th>date_time</th>\n",
       "      <th>clnt_tenure_yr</th>\n",
       "      <th>clnt_tenure_mnth</th>\n",
       "      <th>clnt_age</th>\n",
       "      <th>gendr</th>\n",
       "      <th>num_accts</th>\n",
       "      <th>bal</th>\n",
       "      <th>calls_6_mnth</th>\n",
       "      <th>logons_6_mnth</th>\n",
       "    </tr>\n",
       "  </thead>\n",
       "  <tbody>\n",
       "    <tr>\n",
       "      <th>0</th>\n",
       "      <td>9988021</td>\n",
       "      <td>Test</td>\n",
       "      <td>580560515_7732621733</td>\n",
       "      <td>781255054_21935453173_531117</td>\n",
       "      <td>step_3</td>\n",
       "      <td>2017-04-17 15:27:07</td>\n",
       "      <td>5.0</td>\n",
       "      <td>64.0</td>\n",
       "      <td>79.0</td>\n",
       "      <td>U</td>\n",
       "      <td>2.0</td>\n",
       "      <td>189023.86</td>\n",
       "      <td>1.0</td>\n",
       "      <td>4.0</td>\n",
       "    </tr>\n",
       "    <tr>\n",
       "      <th>1</th>\n",
       "      <td>9988021</td>\n",
       "      <td>Test</td>\n",
       "      <td>580560515_7732621733</td>\n",
       "      <td>781255054_21935453173_531117</td>\n",
       "      <td>step_2</td>\n",
       "      <td>2017-04-17 15:26:51</td>\n",
       "      <td>5.0</td>\n",
       "      <td>64.0</td>\n",
       "      <td>79.0</td>\n",
       "      <td>U</td>\n",
       "      <td>2.0</td>\n",
       "      <td>189023.86</td>\n",
       "      <td>1.0</td>\n",
       "      <td>4.0</td>\n",
       "    </tr>\n",
       "    <tr>\n",
       "      <th>2</th>\n",
       "      <td>9988021</td>\n",
       "      <td>Test</td>\n",
       "      <td>580560515_7732621733</td>\n",
       "      <td>781255054_21935453173_531117</td>\n",
       "      <td>step_3</td>\n",
       "      <td>2017-04-17 15:19:22</td>\n",
       "      <td>5.0</td>\n",
       "      <td>64.0</td>\n",
       "      <td>79.0</td>\n",
       "      <td>U</td>\n",
       "      <td>2.0</td>\n",
       "      <td>189023.86</td>\n",
       "      <td>1.0</td>\n",
       "      <td>4.0</td>\n",
       "    </tr>\n",
       "    <tr>\n",
       "      <th>3</th>\n",
       "      <td>9988021</td>\n",
       "      <td>Test</td>\n",
       "      <td>580560515_7732621733</td>\n",
       "      <td>781255054_21935453173_531117</td>\n",
       "      <td>step_2</td>\n",
       "      <td>2017-04-17 15:19:13</td>\n",
       "      <td>5.0</td>\n",
       "      <td>64.0</td>\n",
       "      <td>79.0</td>\n",
       "      <td>U</td>\n",
       "      <td>2.0</td>\n",
       "      <td>189023.86</td>\n",
       "      <td>1.0</td>\n",
       "      <td>4.0</td>\n",
       "    </tr>\n",
       "    <tr>\n",
       "      <th>4</th>\n",
       "      <td>9988021</td>\n",
       "      <td>Test</td>\n",
       "      <td>580560515_7732621733</td>\n",
       "      <td>781255054_21935453173_531117</td>\n",
       "      <td>step_3</td>\n",
       "      <td>2017-04-17 15:18:04</td>\n",
       "      <td>5.0</td>\n",
       "      <td>64.0</td>\n",
       "      <td>79.0</td>\n",
       "      <td>U</td>\n",
       "      <td>2.0</td>\n",
       "      <td>189023.86</td>\n",
       "      <td>1.0</td>\n",
       "      <td>4.0</td>\n",
       "    </tr>\n",
       "    <tr>\n",
       "      <th>...</th>\n",
       "      <td>...</td>\n",
       "      <td>...</td>\n",
       "      <td>...</td>\n",
       "      <td>...</td>\n",
       "      <td>...</td>\n",
       "      <td>...</td>\n",
       "      <td>...</td>\n",
       "      <td>...</td>\n",
       "      <td>...</td>\n",
       "      <td>...</td>\n",
       "      <td>...</td>\n",
       "      <td>...</td>\n",
       "      <td>...</td>\n",
       "      <td>...</td>\n",
       "    </tr>\n",
       "    <tr>\n",
       "      <th>321304</th>\n",
       "      <td>6334360</td>\n",
       "      <td>Test</td>\n",
       "      <td>629124187_65258232847</td>\n",
       "      <td>586047816_14599436811_389185</td>\n",
       "      <td>step_2</td>\n",
       "      <td>2017-04-11 08:45:38</td>\n",
       "      <td>4.0</td>\n",
       "      <td>53.0</td>\n",
       "      <td>66.0</td>\n",
       "      <td>U</td>\n",
       "      <td>2.0</td>\n",
       "      <td>93103.47</td>\n",
       "      <td>6.0</td>\n",
       "      <td>9.0</td>\n",
       "    </tr>\n",
       "    <tr>\n",
       "      <th>321305</th>\n",
       "      <td>6334360</td>\n",
       "      <td>Test</td>\n",
       "      <td>629124187_65258232847</td>\n",
       "      <td>586047816_14599436811_389185</td>\n",
       "      <td>step_1</td>\n",
       "      <td>2017-04-11 08:44:43</td>\n",
       "      <td>4.0</td>\n",
       "      <td>53.0</td>\n",
       "      <td>66.0</td>\n",
       "      <td>U</td>\n",
       "      <td>2.0</td>\n",
       "      <td>93103.47</td>\n",
       "      <td>6.0</td>\n",
       "      <td>9.0</td>\n",
       "    </tr>\n",
       "    <tr>\n",
       "      <th>321306</th>\n",
       "      <td>6334360</td>\n",
       "      <td>Test</td>\n",
       "      <td>629124187_65258232847</td>\n",
       "      <td>586047816_14599436811_389185</td>\n",
       "      <td>step_2</td>\n",
       "      <td>2017-04-11 08:44:30</td>\n",
       "      <td>4.0</td>\n",
       "      <td>53.0</td>\n",
       "      <td>66.0</td>\n",
       "      <td>U</td>\n",
       "      <td>2.0</td>\n",
       "      <td>93103.47</td>\n",
       "      <td>6.0</td>\n",
       "      <td>9.0</td>\n",
       "    </tr>\n",
       "    <tr>\n",
       "      <th>321307</th>\n",
       "      <td>6334360</td>\n",
       "      <td>Test</td>\n",
       "      <td>629124187_65258232847</td>\n",
       "      <td>586047816_14599436811_389185</td>\n",
       "      <td>step_1</td>\n",
       "      <td>2017-04-11 08:42:36</td>\n",
       "      <td>4.0</td>\n",
       "      <td>53.0</td>\n",
       "      <td>66.0</td>\n",
       "      <td>U</td>\n",
       "      <td>2.0</td>\n",
       "      <td>93103.47</td>\n",
       "      <td>6.0</td>\n",
       "      <td>9.0</td>\n",
       "    </tr>\n",
       "    <tr>\n",
       "      <th>321308</th>\n",
       "      <td>6334360</td>\n",
       "      <td>Test</td>\n",
       "      <td>629124187_65258232847</td>\n",
       "      <td>586047816_14599436811_389185</td>\n",
       "      <td>start</td>\n",
       "      <td>2017-04-11 08:42:20</td>\n",
       "      <td>4.0</td>\n",
       "      <td>53.0</td>\n",
       "      <td>66.0</td>\n",
       "      <td>U</td>\n",
       "      <td>2.0</td>\n",
       "      <td>93103.47</td>\n",
       "      <td>6.0</td>\n",
       "      <td>9.0</td>\n",
       "    </tr>\n",
       "  </tbody>\n",
       "</table>\n",
       "<p>321309 rows × 14 columns</p>\n",
       "</div>"
      ],
      "text/plain": [
       "        client_id variation             visitor_id  \\\n",
       "0         9988021      Test   580560515_7732621733   \n",
       "1         9988021      Test   580560515_7732621733   \n",
       "2         9988021      Test   580560515_7732621733   \n",
       "3         9988021      Test   580560515_7732621733   \n",
       "4         9988021      Test   580560515_7732621733   \n",
       "...           ...       ...                    ...   \n",
       "321304    6334360      Test  629124187_65258232847   \n",
       "321305    6334360      Test  629124187_65258232847   \n",
       "321306    6334360      Test  629124187_65258232847   \n",
       "321307    6334360      Test  629124187_65258232847   \n",
       "321308    6334360      Test  629124187_65258232847   \n",
       "\n",
       "                            visit_id process_step            date_time  \\\n",
       "0       781255054_21935453173_531117       step_3  2017-04-17 15:27:07   \n",
       "1       781255054_21935453173_531117       step_2  2017-04-17 15:26:51   \n",
       "2       781255054_21935453173_531117       step_3  2017-04-17 15:19:22   \n",
       "3       781255054_21935453173_531117       step_2  2017-04-17 15:19:13   \n",
       "4       781255054_21935453173_531117       step_3  2017-04-17 15:18:04   \n",
       "...                              ...          ...                  ...   \n",
       "321304  586047816_14599436811_389185       step_2  2017-04-11 08:45:38   \n",
       "321305  586047816_14599436811_389185       step_1  2017-04-11 08:44:43   \n",
       "321306  586047816_14599436811_389185       step_2  2017-04-11 08:44:30   \n",
       "321307  586047816_14599436811_389185       step_1  2017-04-11 08:42:36   \n",
       "321308  586047816_14599436811_389185        start  2017-04-11 08:42:20   \n",
       "\n",
       "        clnt_tenure_yr  clnt_tenure_mnth  clnt_age gendr  num_accts  \\\n",
       "0                  5.0              64.0      79.0     U        2.0   \n",
       "1                  5.0              64.0      79.0     U        2.0   \n",
       "2                  5.0              64.0      79.0     U        2.0   \n",
       "3                  5.0              64.0      79.0     U        2.0   \n",
       "4                  5.0              64.0      79.0     U        2.0   \n",
       "...                ...               ...       ...   ...        ...   \n",
       "321304             4.0              53.0      66.0     U        2.0   \n",
       "321305             4.0              53.0      66.0     U        2.0   \n",
       "321306             4.0              53.0      66.0     U        2.0   \n",
       "321307             4.0              53.0      66.0     U        2.0   \n",
       "321308             4.0              53.0      66.0     U        2.0   \n",
       "\n",
       "              bal  calls_6_mnth  logons_6_mnth  \n",
       "0       189023.86           1.0            4.0  \n",
       "1       189023.86           1.0            4.0  \n",
       "2       189023.86           1.0            4.0  \n",
       "3       189023.86           1.0            4.0  \n",
       "4       189023.86           1.0            4.0  \n",
       "...           ...           ...            ...  \n",
       "321304   93103.47           6.0            9.0  \n",
       "321305   93103.47           6.0            9.0  \n",
       "321306   93103.47           6.0            9.0  \n",
       "321307   93103.47           6.0            9.0  \n",
       "321308   93103.47           6.0            9.0  \n",
       "\n",
       "[321309 rows x 14 columns]"
      ]
     },
     "execution_count": 28,
     "metadata": {},
     "output_type": "execute_result"
    }
   ],
   "source": [
    "df_final"
   ]
  },
  {
   "cell_type": "markdown",
   "metadata": {},
   "source": [
    "# Exploración de datos"
   ]
  },
  {
   "cell_type": "code",
   "execution_count": 65,
   "metadata": {},
   "outputs": [
    {
     "data": {
      "text/plain": [
       "gendr\n",
       "U    24122\n",
       "M    23724\n",
       "F    22745\n",
       "X        3\n",
       "Name: count, dtype: int64"
      ]
     },
     "execution_count": 65,
     "metadata": {},
     "output_type": "execute_result"
    }
   ],
   "source": [
    "df_demo_gendr = df_demo['gendr'].value_counts()\n",
    "df_demo_gendr"
   ]
  },
  {
   "cell_type": "code",
   "execution_count": 66,
   "metadata": {},
   "outputs": [
    {
     "data": {
      "image/png": "[encoded data removed]",
      "text/plain": [
       "<Figure size 1000x600 with 1 Axes>"
      ]
     },
     "metadata": {},
     "output_type": "display_data"
    }
   ],
   "source": [
    "# Crea el gráfico de tarta y ordena las categorías en sentido horario\n",
    "plt.figure(figsize=(10, 6))\n",
    "plt.pie(df_demo_gendr, labels=df_demo_gendr.index, autopct='%1.1f%%', colors=plt.cm.Set3.colors, startangle=90, counterclock=False)\n",
    "plt.title('Género de los Clientes')\n",
    "plt.show()"
   ]
  },
  {
   "cell_type": "code",
   "execution_count": 67,
   "metadata": {},
   "outputs": [
    {
     "data": {
      "text/plain": [
       "(96, 13)"
      ]
     },
     "execution_count": 67,
     "metadata": {},
     "output_type": "execute_result"
    }
   ],
   "source": [
    "max_clnt_age = df_demo['clnt_age'].max()\n",
    "min_clnt_age = df_demo['clnt_age'].min()\n",
    "\n",
    "max_clnt_age, min_clnt_age"
   ]
  },
  {
   "cell_type": "code",
   "execution_count": 68,
   "metadata": {},
   "outputs": [
    {
     "name": "stderr",
     "output_type": "stream",
     "text": [
      "C:\\Users\\bruno\\AppData\\Local\\Temp\\ipykernel_32536\\1395903998.py:5: DeprecationWarning: Conversion of an array with ndim > 0 to a scalar is deprecated, and will error in future. Ensure you extract a single element from your array before performing this operation. (Deprecated NumPy 1.25.)\n",
      "  mean_clnt_age, median_clnt_age, int(mode_clnt_age.values)\n"
     ]
    },
    {
     "data": {
      "text/plain": [
       "(46, 47, 57)"
      ]
     },
     "execution_count": 68,
     "metadata": {},
     "output_type": "execute_result"
    }
   ],
   "source": [
    "mean_clnt_age = int(round(df_demo['clnt_age'].mean()))\n",
    "median_clnt_age = int(round(df_demo['clnt_age'].median()))\n",
    "mode_clnt_age = df_demo['clnt_age'].mode()\n",
    "\n",
    "mean_clnt_age, median_clnt_age, int(mode_clnt_age.values)"
   ]
  },
  {
   "cell_type": "code",
   "execution_count": 69,
   "metadata": {},
   "outputs": [
    {
     "data": {
      "text/plain": [
       "265"
      ]
     },
     "execution_count": 69,
     "metadata": {},
     "output_type": "execute_result"
    }
   ],
   "source": [
    "# calculamos la raiz cuadrada de la población, para hacer el histograma\n",
    "raiz = int(70608 ** (1/2))\n",
    "raiz"
   ]
  },
  {
   "cell_type": "code",
   "execution_count": 70,
   "metadata": {},
   "outputs": [
    {
     "data": {
      "text/plain": [
       "<Axes: xlabel='clnt_age', ylabel='Count'>"
      ]
     },
     "execution_count": 70,
     "metadata": {},
     "output_type": "execute_result"
    },
    {
     "data": {
      "image/png": "[encoded data removed]",
      "text/plain": [
       "<Figure size 640x480 with 1 Axes>"
      ]
     },
     "metadata": {},
     "output_type": "display_data"
    }
   ],
   "source": [
    "sns.histplot(df_demo['clnt_age'], kde=True, bins=raiz, color=\"salmon\")"
   ]
  },
  {
   "cell_type": "code",
   "execution_count": 71,
   "metadata": {},
   "outputs": [
    {
     "data": {
      "text/plain": [
       "(8.0, 1.0)"
      ]
     },
     "execution_count": 71,
     "metadata": {},
     "output_type": "execute_result"
    }
   ],
   "source": [
    "max_num_accts = df_demo['num_accts'].max()\n",
    "min_num_accts = df_demo['num_accts'].min()\n",
    "\n",
    "max_num_accts, min_num_accts"
   ]
  },
  {
   "cell_type": "code",
   "execution_count": 72,
   "metadata": {},
   "outputs": [
    {
     "data": {
      "text/plain": [
       "num_accts\n",
       "2.0    55496\n",
       "3.0    12529\n",
       "4.0     2241\n",
       "5.0      284\n",
       "6.0       33\n",
       "7.0        8\n",
       "1.0        2\n",
       "8.0        1\n",
       "Name: count, dtype: int64"
      ]
     },
     "execution_count": 72,
     "metadata": {},
     "output_type": "execute_result"
    }
   ],
   "source": [
    "df_demo_num_accts = df_demo['num_accts'].value_counts()\n",
    "df_demo_num_accts"
   ]
  },
  {
   "cell_type": "code",
   "execution_count": 73,
   "metadata": {},
   "outputs": [
    {
     "data": {
      "image/png": "[encoded data removed]",
      "text/plain": [
       "<Figure size 640x480 with 1 Axes>"
      ]
     },
     "metadata": {},
     "output_type": "display_data"
    }
   ],
   "source": [
    "\n",
    "# Ordenar el dataframe por num_accts\n",
    "#df.sort_values(by='num_accts', inplace=True)\n",
    "\n",
    "# Crear el gráfico\n",
    "plt.bar(df_demo_num_accts.index, df_demo_num_accts.values, color='skyblue')\n",
    "\n",
    "# Añadir etiquetas y título\n",
    "plt.xlabel('Número de Cuentas')\n",
    "plt.ylabel('Conteo')\n",
    "plt.title('Distribución de Cuentas por Número de Cuentas')\n",
    "\n",
    "# Mostrar el gráfico\n",
    "plt.show()\n"
   ]
  },
  {
   "cell_type": "code",
   "execution_count": 74,
   "metadata": {},
   "outputs": [
    {
     "data": {
      "text/plain": [
       "variation\n",
       "Test       26968\n",
       "Control    23532\n",
       "Name: count, dtype: int64"
      ]
     },
     "execution_count": 74,
     "metadata": {},
     "output_type": "execute_result"
    }
   ],
   "source": [
    "df_experiment_clients_variation = df_experiment_clients.value_counts('variation')\n",
    "df_experiment_clients_variation"
   ]
  },
  {
   "cell_type": "code",
   "execution_count": 75,
   "metadata": {},
   "outputs": [
    {
     "data": {
      "image/png": "[encoded data removed]",
      "text/plain": [
       "<Figure size 1000x600 with 1 Axes>"
      ]
     },
     "metadata": {},
     "output_type": "display_data"
    }
   ],
   "source": [
    "# Crea el gráfico de tarta y ordena las categorías en sentido horario\n",
    "plt.figure(figsize=(10, 6))\n",
    "plt.pie(df_experiment_clients_variation, labels=df_experiment_clients_variation.index, autopct='%1.1f%%', colors=plt.cm.Set3.colors, startangle=90, counterclock=False)\n",
    "plt.title('variation')\n",
    "plt.show()"
   ]
  },
  {
   "cell_type": "code",
   "execution_count": 24,
   "metadata": {},
   "outputs": [
    {
     "data": {
      "text/plain": [
       "process_step\n",
       "start      243945\n",
       "step_1     163193\n",
       "step_2     133062\n",
       "step_3     112242\n",
       "confirm    102963\n",
       "Name: count, dtype: int64"
      ]
     },
     "execution_count": 24,
     "metadata": {},
     "output_type": "execute_result"
    }
   ],
   "source": [
    "df_web_data_process_step = df_web_data.value_counts('process_step')\n",
    "df_web_data_process_step"
   ]
  },
  {
   "cell_type": "code",
   "execution_count": 25,
   "metadata": {},
   "outputs": [
    {
     "data": {
      "image/png": "[encoded data removed]",
      "text/plain": [
       "<Figure size 1000x600 with 1 Axes>"
      ]
     },
     "metadata": {},
     "output_type": "display_data"
    }
   ],
   "source": [
    "# Crea el gráfico de tarta y ordena las categorías en sentido horario\n",
    "plt.figure(figsize=(10, 6))\n",
    "plt.pie(df_web_data_process_step, labels=df_web_data_process_step.index, autopct='%1.1f%%', colors=plt.cm.Set3.colors, startangle=90, counterclock=False)\n",
    "plt.title('Steps')\n",
    "plt.show()"
   ]
  },
  {
   "cell_type": "code",
   "execution_count": 31,
   "metadata": {},
   "outputs": [
    {
     "data": {
      "text/plain": [
       "566"
      ]
     },
     "execution_count": 31,
     "metadata": {},
     "output_type": "execute_result"
    }
   ],
   "source": [
    "raiz_final = int(321309 ** (1/2))\n",
    "raiz_final "
   ]
  },
  {
   "cell_type": "code",
   "execution_count": 32,
   "metadata": {},
   "outputs": [
    {
     "data": {
      "text/plain": [
       "265"
      ]
     },
     "execution_count": 32,
     "metadata": {},
     "output_type": "execute_result"
    }
   ],
   "source": [
    "raiz_demo = int(70609 ** (1/2))\n",
    "raiz_demo"
   ]
  },
  {
   "cell_type": "code",
   "execution_count": 36,
   "metadata": {},
   "outputs": [
    {
     "data": {
      "text/plain": [
       "<Axes: xlabel='bal', ylabel='Count'>"
      ]
     },
     "execution_count": 36,
     "metadata": {},
     "output_type": "execute_result"
    },
    {
     "data": {
      "image/png": "[encoded data removed]",
      "text/plain": [
       "<Figure size 640x480 with 1 Axes>"
      ]
     },
     "metadata": {},
     "output_type": "display_data"
    }
   ],
   "source": [
    "sns.histplot(df_demo['bal'], kde=True, bins=raiz_demo, color=\"salmon\")"
   ]
  },
  {
   "cell_type": "markdown",
   "metadata": {},
   "source": [
    "# Análisis de edad, balance y variación"
   ]
  },
  {
   "cell_type": "code",
   "execution_count": 34,
   "metadata": {},
   "outputs": [
    {
     "data": {
      "text/plain": [
       "100199.52"
      ]
     },
     "execution_count": 34,
     "metadata": {},
     "output_type": "execute_result"
    }
   ],
   "source": [
    "q1 = df_demo['bal'].quantile(0.25)\n",
    "q3 = df_demo['bal'].quantile(0.75)\n",
    "rango_inter_bal = round(q3 - q1, 2)\n",
    "rango_inter_bal"
   ]
  },
  {
   "cell_type": "code",
   "execution_count": 35,
   "metadata": {},
   "outputs": [
    {
     "data": {
      "text/plain": [
       "287845.39749999996"
      ]
     },
     "execution_count": 35,
     "metadata": {},
     "output_type": "execute_result"
    }
   ],
   "source": [
    "outliers_bal = q3 + rango_inter_bal * 1.5\n",
    "outliers_bal"
   ]
  },
  {
   "cell_type": "code",
   "execution_count": 105,
   "metadata": {},
   "outputs": [
    {
     "data": {
      "text/plain": [
       "<Axes: ylabel='bal'>"
      ]
     },
     "execution_count": 105,
     "metadata": {},
     "output_type": "execute_result"
    },
    {
     "data": {
      "image/png": "[encoded data removed]",
      "text/plain": [
       "<Figure size 640x480 with 1 Axes>"
      ]
     },
     "metadata": {},
     "output_type": "display_data"
    }
   ],
   "source": [
    "sns.boxplot(data = df_demo['bal'], color=\"lightblue\")"
   ]
  },
  {
   "cell_type": "code",
   "execution_count": 112,
   "metadata": {},
   "outputs": [
    {
     "data": {
      "text/html": [
       "<div>\n",
       "<style scoped>\n",
       "    .dataframe tbody tr th:only-of-type {\n",
       "        vertical-align: middle;\n",
       "    }\n",
       "\n",
       "    .dataframe tbody tr th {\n",
       "        vertical-align: top;\n",
       "    }\n",
       "\n",
       "    .dataframe thead th {\n",
       "        text-align: right;\n",
       "    }\n",
       "</style>\n",
       "<table border=\"1\" class=\"dataframe\">\n",
       "  <thead>\n",
       "    <tr style=\"text-align: right;\">\n",
       "      <th></th>\n",
       "      <th>client_id</th>\n",
       "      <th>variation</th>\n",
       "      <th>visitor_id</th>\n",
       "      <th>visit_id</th>\n",
       "      <th>process_step</th>\n",
       "      <th>date_time</th>\n",
       "      <th>clnt_tenure_yr</th>\n",
       "      <th>clnt_tenure_mnth</th>\n",
       "      <th>clnt_age</th>\n",
       "      <th>gendr</th>\n",
       "      <th>num_accts</th>\n",
       "      <th>bal</th>\n",
       "      <th>calls_6_mnth</th>\n",
       "      <th>logons_6_mnth</th>\n",
       "    </tr>\n",
       "  </thead>\n",
       "  <tbody>\n",
       "    <tr>\n",
       "      <th>56</th>\n",
       "      <td>6651403</td>\n",
       "      <td>Control</td>\n",
       "      <td>387438258_49845138949</td>\n",
       "      <td>754106292_61370647593_160929</td>\n",
       "      <td>confirm</td>\n",
       "      <td>2017-04-04 17:38:39</td>\n",
       "      <td>13.0</td>\n",
       "      <td>162.0</td>\n",
       "      <td>56.0</td>\n",
       "      <td>M</td>\n",
       "      <td>2.0</td>\n",
       "      <td>324712.88</td>\n",
       "      <td>4.0</td>\n",
       "      <td>7.0</td>\n",
       "    </tr>\n",
       "    <tr>\n",
       "      <th>57</th>\n",
       "      <td>6651403</td>\n",
       "      <td>Control</td>\n",
       "      <td>387438258_49845138949</td>\n",
       "      <td>754106292_61370647593_160929</td>\n",
       "      <td>step_3</td>\n",
       "      <td>2017-04-04 17:34:03</td>\n",
       "      <td>13.0</td>\n",
       "      <td>162.0</td>\n",
       "      <td>56.0</td>\n",
       "      <td>M</td>\n",
       "      <td>2.0</td>\n",
       "      <td>324712.88</td>\n",
       "      <td>4.0</td>\n",
       "      <td>7.0</td>\n",
       "    </tr>\n",
       "    <tr>\n",
       "      <th>58</th>\n",
       "      <td>6651403</td>\n",
       "      <td>Control</td>\n",
       "      <td>387438258_49845138949</td>\n",
       "      <td>754106292_61370647593_160929</td>\n",
       "      <td>step_2</td>\n",
       "      <td>2017-04-04 17:33:55</td>\n",
       "      <td>13.0</td>\n",
       "      <td>162.0</td>\n",
       "      <td>56.0</td>\n",
       "      <td>M</td>\n",
       "      <td>2.0</td>\n",
       "      <td>324712.88</td>\n",
       "      <td>4.0</td>\n",
       "      <td>7.0</td>\n",
       "    </tr>\n",
       "    <tr>\n",
       "      <th>59</th>\n",
       "      <td>6651403</td>\n",
       "      <td>Control</td>\n",
       "      <td>387438258_49845138949</td>\n",
       "      <td>754106292_61370647593_160929</td>\n",
       "      <td>step_3</td>\n",
       "      <td>2017-04-04 17:31:32</td>\n",
       "      <td>13.0</td>\n",
       "      <td>162.0</td>\n",
       "      <td>56.0</td>\n",
       "      <td>M</td>\n",
       "      <td>2.0</td>\n",
       "      <td>324712.88</td>\n",
       "      <td>4.0</td>\n",
       "      <td>7.0</td>\n",
       "    </tr>\n",
       "    <tr>\n",
       "      <th>60</th>\n",
       "      <td>6651403</td>\n",
       "      <td>Control</td>\n",
       "      <td>387438258_49845138949</td>\n",
       "      <td>754106292_61370647593_160929</td>\n",
       "      <td>step_2</td>\n",
       "      <td>2017-04-04 17:28:44</td>\n",
       "      <td>13.0</td>\n",
       "      <td>162.0</td>\n",
       "      <td>56.0</td>\n",
       "      <td>M</td>\n",
       "      <td>2.0</td>\n",
       "      <td>324712.88</td>\n",
       "      <td>4.0</td>\n",
       "      <td>7.0</td>\n",
       "    </tr>\n",
       "    <tr>\n",
       "      <th>...</th>\n",
       "      <td>...</td>\n",
       "      <td>...</td>\n",
       "      <td>...</td>\n",
       "      <td>...</td>\n",
       "      <td>...</td>\n",
       "      <td>...</td>\n",
       "      <td>...</td>\n",
       "      <td>...</td>\n",
       "      <td>...</td>\n",
       "      <td>...</td>\n",
       "      <td>...</td>\n",
       "      <td>...</td>\n",
       "      <td>...</td>\n",
       "      <td>...</td>\n",
       "    </tr>\n",
       "    <tr>\n",
       "      <th>321094</th>\n",
       "      <td>6428716</td>\n",
       "      <td>Control</td>\n",
       "      <td>560491570_1499365439</td>\n",
       "      <td>104222319_64628836240_918404</td>\n",
       "      <td>step_2</td>\n",
       "      <td>2017-04-08 15:58:28</td>\n",
       "      <td>24.0</td>\n",
       "      <td>299.0</td>\n",
       "      <td>50.0</td>\n",
       "      <td>M</td>\n",
       "      <td>3.0</td>\n",
       "      <td>493237.27</td>\n",
       "      <td>1.0</td>\n",
       "      <td>5.0</td>\n",
       "    </tr>\n",
       "    <tr>\n",
       "      <th>321095</th>\n",
       "      <td>6428716</td>\n",
       "      <td>Control</td>\n",
       "      <td>560491570_1499365439</td>\n",
       "      <td>104222319_64628836240_918404</td>\n",
       "      <td>step_1</td>\n",
       "      <td>2017-04-08 15:57:46</td>\n",
       "      <td>24.0</td>\n",
       "      <td>299.0</td>\n",
       "      <td>50.0</td>\n",
       "      <td>M</td>\n",
       "      <td>3.0</td>\n",
       "      <td>493237.27</td>\n",
       "      <td>1.0</td>\n",
       "      <td>5.0</td>\n",
       "    </tr>\n",
       "    <tr>\n",
       "      <th>321096</th>\n",
       "      <td>6428716</td>\n",
       "      <td>Control</td>\n",
       "      <td>560491570_1499365439</td>\n",
       "      <td>104222319_64628836240_918404</td>\n",
       "      <td>start</td>\n",
       "      <td>2017-04-08 15:57:18</td>\n",
       "      <td>24.0</td>\n",
       "      <td>299.0</td>\n",
       "      <td>50.0</td>\n",
       "      <td>M</td>\n",
       "      <td>3.0</td>\n",
       "      <td>493237.27</td>\n",
       "      <td>1.0</td>\n",
       "      <td>5.0</td>\n",
       "    </tr>\n",
       "    <tr>\n",
       "      <th>321246</th>\n",
       "      <td>8730282</td>\n",
       "      <td>Control</td>\n",
       "      <td>207079190_70980466142</td>\n",
       "      <td>447063016_91750701649_632942</td>\n",
       "      <td>start</td>\n",
       "      <td>2017-04-13 11:23:20</td>\n",
       "      <td>27.0</td>\n",
       "      <td>334.0</td>\n",
       "      <td>50.0</td>\n",
       "      <td>F</td>\n",
       "      <td>3.0</td>\n",
       "      <td>464879.31</td>\n",
       "      <td>2.0</td>\n",
       "      <td>5.0</td>\n",
       "    </tr>\n",
       "    <tr>\n",
       "      <th>321247</th>\n",
       "      <td>8730282</td>\n",
       "      <td>Control</td>\n",
       "      <td>207079190_70980466142</td>\n",
       "      <td>447063016_91750701649_632942</td>\n",
       "      <td>start</td>\n",
       "      <td>2017-04-13 11:22:41</td>\n",
       "      <td>27.0</td>\n",
       "      <td>334.0</td>\n",
       "      <td>50.0</td>\n",
       "      <td>F</td>\n",
       "      <td>3.0</td>\n",
       "      <td>464879.31</td>\n",
       "      <td>2.0</td>\n",
       "      <td>5.0</td>\n",
       "    </tr>\n",
       "  </tbody>\n",
       "</table>\n",
       "<p>41020 rows × 14 columns</p>\n",
       "</div>"
      ],
      "text/plain": [
       "        client_id variation             visitor_id  \\\n",
       "56        6651403   Control  387438258_49845138949   \n",
       "57        6651403   Control  387438258_49845138949   \n",
       "58        6651403   Control  387438258_49845138949   \n",
       "59        6651403   Control  387438258_49845138949   \n",
       "60        6651403   Control  387438258_49845138949   \n",
       "...           ...       ...                    ...   \n",
       "321094    6428716   Control   560491570_1499365439   \n",
       "321095    6428716   Control   560491570_1499365439   \n",
       "321096    6428716   Control   560491570_1499365439   \n",
       "321246    8730282   Control  207079190_70980466142   \n",
       "321247    8730282   Control  207079190_70980466142   \n",
       "\n",
       "                            visit_id process_step            date_time  \\\n",
       "56      754106292_61370647593_160929      confirm  2017-04-04 17:38:39   \n",
       "57      754106292_61370647593_160929       step_3  2017-04-04 17:34:03   \n",
       "58      754106292_61370647593_160929       step_2  2017-04-04 17:33:55   \n",
       "59      754106292_61370647593_160929       step_3  2017-04-04 17:31:32   \n",
       "60      754106292_61370647593_160929       step_2  2017-04-04 17:28:44   \n",
       "...                              ...          ...                  ...   \n",
       "321094  104222319_64628836240_918404       step_2  2017-04-08 15:58:28   \n",
       "321095  104222319_64628836240_918404       step_1  2017-04-08 15:57:46   \n",
       "321096  104222319_64628836240_918404        start  2017-04-08 15:57:18   \n",
       "321246  447063016_91750701649_632942        start  2017-04-13 11:23:20   \n",
       "321247  447063016_91750701649_632942        start  2017-04-13 11:22:41   \n",
       "\n",
       "        clnt_tenure_yr  clnt_tenure_mnth  clnt_age gendr  num_accts  \\\n",
       "56                13.0             162.0      56.0     M        2.0   \n",
       "57                13.0             162.0      56.0     M        2.0   \n",
       "58                13.0             162.0      56.0     M        2.0   \n",
       "59                13.0             162.0      56.0     M        2.0   \n",
       "60                13.0             162.0      56.0     M        2.0   \n",
       "...                ...               ...       ...   ...        ...   \n",
       "321094            24.0             299.0      50.0     M        3.0   \n",
       "321095            24.0             299.0      50.0     M        3.0   \n",
       "321096            24.0             299.0      50.0     M        3.0   \n",
       "321246            27.0             334.0      50.0     F        3.0   \n",
       "321247            27.0             334.0      50.0     F        3.0   \n",
       "\n",
       "              bal  calls_6_mnth  logons_6_mnth  \n",
       "56      324712.88           4.0            7.0  \n",
       "57      324712.88           4.0            7.0  \n",
       "58      324712.88           4.0            7.0  \n",
       "59      324712.88           4.0            7.0  \n",
       "60      324712.88           4.0            7.0  \n",
       "...           ...           ...            ...  \n",
       "321094  493237.27           1.0            5.0  \n",
       "321095  493237.27           1.0            5.0  \n",
       "321096  493237.27           1.0            5.0  \n",
       "321246  464879.31           2.0            5.0  \n",
       "321247  464879.31           2.0            5.0  \n",
       "\n",
       "[41020 rows x 14 columns]"
      ]
     },
     "execution_count": 112,
     "metadata": {},
     "output_type": "execute_result"
    }
   ],
   "source": [
    "df_outliers = df_final[df_final['bal'] > outliers_bal]\n",
    "df_outliers"
   ]
  },
  {
   "cell_type": "code",
   "execution_count": null,
   "metadata": {},
   "outputs": [],
   "source": []
  },
  {
   "cell_type": "code",
   "execution_count": 114,
   "metadata": {},
   "outputs": [
    {
     "data": {
      "text/plain": [
       "7         522498.72\n",
       "8         299388.72\n",
       "9         382303.83\n",
       "21       2768726.87\n",
       "37        439723.43\n",
       "            ...    \n",
       "70593     319382.04\n",
       "70595     482000.12\n",
       "70598     493497.05\n",
       "70604    1411062.68\n",
       "70607     475114.69\n",
       "Name: bal, Length: 8018, dtype: float64"
      ]
     },
     "execution_count": 114,
     "metadata": {},
     "output_type": "execute_result"
    }
   ],
   "source": [
    "df_demo[df_demo['bal'] > outliers_bal]['bal']"
   ]
  },
  {
   "cell_type": "code",
   "execution_count": null,
   "metadata": {},
   "outputs": [],
   "source": [
    "raiz2 = 42"
   ]
  },
  {
   "cell_type": "code",
   "execution_count": 37,
   "metadata": {},
   "outputs": [
    {
     "data": {
      "text/plain": [
       "<Axes: xlabel='bal', ylabel='Count'>"
      ]
     },
     "execution_count": 37,
     "metadata": {},
     "output_type": "execute_result"
    },
    {
     "data": {
      "image/png": "[encoded data removed]",
      "text/plain": [
       "<Figure size 640x480 with 1 Axes>"
      ]
     },
     "metadata": {},
     "output_type": "display_data"
    }
   ],
   "source": [
    "sns.histplot(df_demo[df_demo['bal'] < outliers_bal]['bal'], kde=True, bins=raiz_demo, color=\"salmon\")"
   ]
  },
  {
   "cell_type": "code",
   "execution_count": 51,
   "metadata": {},
   "outputs": [
    {
     "data": {
      "text/plain": [
       "<Axes: xlabel='bal', ylabel='Count'>"
      ]
     },
     "execution_count": 51,
     "metadata": {},
     "output_type": "execute_result"
    },
    {
     "data": {
      "image/png": "[encoded data removed]",
      "text/plain": [
       "<Figure size 640x480 with 1 Axes>"
      ]
     },
     "metadata": {},
     "output_type": "display_data"
    }
   ],
   "source": [
    "sns.histplot(df_final[df_final['bal'] < outliers_bal]['bal'], kde=True, bins=raiz_final, color=\"salmon\")"
   ]
  },
  {
   "cell_type": "code",
   "execution_count": null,
   "metadata": {},
   "outputs": [
    {
     "data": {
      "text/plain": [
       "991       23906.68\n",
       "992       23906.68\n",
       "993       23906.68\n",
       "994       23906.68\n",
       "995       23906.68\n",
       "            ...   \n",
       "320390    23945.70\n",
       "320391    23945.70\n",
       "320392    23945.70\n",
       "320393    23945.70\n",
       "320394    23945.70\n",
       "Name: bal, Length: 2421, dtype: float64"
      ]
     },
     "execution_count": 56,
     "metadata": {},
     "output_type": "execute_result"
    }
   ],
   "source": [
    "df_bal_test_small = df_final[(df_final['bal'] < 51_697) & (df_final['variation'] == 'Test')]['bal']\n",
    "df_bal_test_small"
   ]
  },
  {
   "cell_type": "code",
   "execution_count": 85,
   "metadata": {},
   "outputs": [
    {
     "data": {
      "text/plain": [
       "226892    23789.44\n",
       "226891    23789.44\n",
       "226890    23789.44\n",
       "226889    23789.44\n",
       "226888    23789.44\n",
       "            ...   \n",
       "251026    44514.49\n",
       "251024    44514.49\n",
       "251022    44514.49\n",
       "251023    44514.49\n",
       "148586    44515.18\n",
       "Name: bal, Length: 51697, dtype: float64"
      ]
     },
     "execution_count": 85,
     "metadata": {},
     "output_type": "execute_result"
    }
   ],
   "source": [
    "df_bal_test_small = df_final[df_final['variation'] == 'Test']['bal'].sort_values().iloc[0:51697]\n",
    "df_bal_test_small\n"
   ]
  },
  {
   "cell_type": "code",
   "execution_count": 57,
   "metadata": {},
   "outputs": [
    {
     "data": {
      "text/plain": [
       "15        36001.90\n",
       "16        36001.90\n",
       "17        36001.90\n",
       "18        36001.90\n",
       "19        36001.90\n",
       "            ...   \n",
       "321304    93103.47\n",
       "321305    93103.47\n",
       "321306    93103.47\n",
       "321307    93103.47\n",
       "321308    93103.47\n",
       "Name: bal, Length: 121428, dtype: float64"
      ]
     },
     "execution_count": 57,
     "metadata": {},
     "output_type": "execute_result"
    }
   ],
   "source": [
    "df_bal_test_medium = df_final[(df_final['bal'] > 25_000) & (df_final['bal'] < 125_000)  & (df_final['variation'] == 'Test')]['bal']\n",
    "df_bal_test_medium"
   ]
  },
  {
   "cell_type": "code",
   "execution_count": 87,
   "metadata": {},
   "outputs": [
    {
     "data": {
      "text/plain": [
       "148584    44515.18\n",
       "148581    44515.18\n",
       "148582    44515.18\n",
       "148583    44515.18\n",
       "287828    44517.64\n",
       "            ...   \n",
       "50095     86430.45\n",
       "50094     86430.45\n",
       "50093     86430.45\n",
       "50092     86430.45\n",
       "50091     86430.45\n",
       "Name: bal, Length: 51697, dtype: float64"
      ]
     },
     "execution_count": 87,
     "metadata": {},
     "output_type": "execute_result"
    }
   ],
   "source": [
    "df_bal_test_medium = df_final[df_final['variation'] == 'Test']['bal'].sort_values().iloc[51698:103395]\n",
    "df_bal_test_medium"
   ]
  },
  {
   "cell_type": "code",
   "execution_count": 73,
   "metadata": {},
   "outputs": [
    {
     "data": {
      "text/plain": [
       "103394"
      ]
     },
     "execution_count": 73,
     "metadata": {},
     "output_type": "execute_result"
    }
   ],
   "source": [
    "51697 + 51697"
   ]
  },
  {
   "cell_type": "code",
   "execution_count": 58,
   "metadata": {},
   "outputs": [
    {
     "data": {
      "text/plain": [
       "0         189023.86\n",
       "1         189023.86\n",
       "2         189023.86\n",
       "3         189023.86\n",
       "4         189023.86\n",
       "            ...    \n",
       "321209    185235.88\n",
       "321210    185235.88\n",
       "321211    185235.88\n",
       "321212    185235.88\n",
       "321213    185235.88\n",
       "Name: bal, Length: 31242, dtype: float64"
      ]
     },
     "execution_count": 58,
     "metadata": {},
     "output_type": "execute_result"
    }
   ],
   "source": [
    "df_bal_test_large = df_final[(df_final['bal'] > 125_000) & (df_final['bal'] < outliers_bal) & (df_final['variation'] == 'Test')]['bal']\n",
    "df_bal_test_large"
   ]
  },
  {
   "cell_type": "code",
   "execution_count": 88,
   "metadata": {},
   "outputs": [
    {
     "data": {
      "text/plain": [
       "50090      86430.45\n",
       "50089      86430.45\n",
       "152300     86437.53\n",
       "152306     86437.53\n",
       "152305     86437.53\n",
       "            ...    \n",
       "287681    287696.13\n",
       "287680    287696.13\n",
       "287695    287696.13\n",
       "287699    287696.13\n",
       "91634     287870.18\n",
       "Name: bal, Length: 51697, dtype: float64"
      ]
     },
     "execution_count": 88,
     "metadata": {},
     "output_type": "execute_result"
    }
   ],
   "source": [
    "df_bal_test_large = df_final[df_final['variation'] == 'Test']['bal'].sort_values().iloc[103395:155092]\n",
    "df_bal_test_large"
   ]
  },
  {
   "cell_type": "code",
   "execution_count": 78,
   "metadata": {},
   "outputs": [
    {
     "data": {
      "text/plain": [
       "155091"
      ]
     },
     "execution_count": 78,
     "metadata": {},
     "output_type": "execute_result"
    }
   ],
   "source": [
    "51697 * 3"
   ]
  },
  {
   "cell_type": "code",
   "execution_count": 89,
   "metadata": {},
   "outputs": [
    {
     "data": {
      "text/plain": [
       "<Axes: xlabel='bal', ylabel='Count'>"
      ]
     },
     "execution_count": 89,
     "metadata": {},
     "output_type": "execute_result"
    },
    {
     "data": {
      "image/png": "[encoded data removed]",
      "text/plain": [
       "<Figure size 640x480 with 1 Axes>"
      ]
     },
     "metadata": {},
     "output_type": "display_data"
    }
   ],
   "source": [
    "sns.histplot(df_bal_test_small, kde=True, bins=int(51697 ** (1/2)), color=\"salmon\")"
   ]
  },
  {
   "cell_type": "code",
   "execution_count": 81,
   "metadata": {},
   "outputs": [
    {
     "data": {
      "text/plain": [
       "Text(0.5, 1.0, 'Box-Cox Transformed bal-test-small')"
      ]
     },
     "execution_count": 81,
     "metadata": {},
     "output_type": "execute_result"
    },
    {
     "data": {
      "image/png": "[encoded data removed]",
      "text/plain": [
       "<Figure size 1000x500 with 1 Axes>"
      ]
     },
     "metadata": {},
     "output_type": "display_data"
    }
   ],
   "source": [
    "from scipy.stats import boxcox\n",
    "import numpy as np\n",
    "\n",
    "# Applying Box-Cox transformation to 'df_final'\n",
    "df_boxcox, _ = boxcox(df_bal_test_small)\n",
    "\n",
    "# Plotting the transformed distributions\n",
    "plt.figure(figsize=(10,5))\n",
    "\n",
    "# Box-Cox transformed 'df_final'\n",
    "sns.histplot(df_boxcox, kde=True)\n",
    "plt.title('Box-Cox Transformed bal-test-small')"
   ]
  },
  {
   "cell_type": "code",
   "execution_count": 83,
   "metadata": {},
   "outputs": [
    {
     "data": {
      "text/plain": [
       "(0.05418724509332906, 2.260505049589121e-132)"
      ]
     },
     "execution_count": 83,
     "metadata": {},
     "output_type": "execute_result"
    }
   ],
   "source": [
    "# Conducting the Kolmogorov-Smirnov test for normality on 'SalePrice'\n",
    "# First, we need to standardize the data to have mean 0 and variance 1 since we're comparing against a standard normal distribution\n",
    "standardized = (df_boxcox - df_boxcox.mean()) / df_boxcox.std()\n",
    "ks_test_statistic, ks_p_value = stats.kstest(standardized, 'norm')\n",
    "\n",
    "ks_test_statistic, ks_p_value"
   ]
  },
  {
   "cell_type": "code",
   "execution_count": 84,
   "metadata": {},
   "outputs": [
    {
     "name": "stdout",
     "output_type": "stream",
     "text": [
      "The test results indicate that the distribution of prices is significantly different from a normal distribution.\n"
     ]
    }
   ],
   "source": [
    "# print the test result\n",
    "if ks_p_value < 0.05:\n",
    "    print('The test results indicate that the distribution of prices is significantly different from a normal distribution.')\n",
    "else:\n",
    "    print('The test results indicate that the distribution of prices is not significantly different from a normal distribution.')"
   ]
  },
  {
   "cell_type": "code",
   "execution_count": 69,
   "metadata": {},
   "outputs": [
    {
     "data": {
      "text/html": [
       "<div>\n",
       "<style scoped>\n",
       "    .dataframe tbody tr th:only-of-type {\n",
       "        vertical-align: middle;\n",
       "    }\n",
       "\n",
       "    .dataframe tbody tr th {\n",
       "        vertical-align: top;\n",
       "    }\n",
       "\n",
       "    .dataframe thead th {\n",
       "        text-align: right;\n",
       "    }\n",
       "</style>\n",
       "<table border=\"1\" class=\"dataframe\">\n",
       "  <thead>\n",
       "    <tr style=\"text-align: right;\">\n",
       "      <th></th>\n",
       "      <th>client_id</th>\n",
       "      <th>variation</th>\n",
       "      <th>visitor_id</th>\n",
       "      <th>visit_id</th>\n",
       "      <th>process_step</th>\n",
       "      <th>date_time</th>\n",
       "      <th>clnt_tenure_yr</th>\n",
       "      <th>clnt_tenure_mnth</th>\n",
       "      <th>clnt_age</th>\n",
       "      <th>gendr</th>\n",
       "      <th>num_accts</th>\n",
       "      <th>bal</th>\n",
       "      <th>calls_6_mnth</th>\n",
       "      <th>logons_6_mnth</th>\n",
       "    </tr>\n",
       "  </thead>\n",
       "  <tbody>\n",
       "    <tr>\n",
       "      <th>0</th>\n",
       "      <td>9988021</td>\n",
       "      <td>Test</td>\n",
       "      <td>580560515_7732621733</td>\n",
       "      <td>781255054_21935453173_531117</td>\n",
       "      <td>step_3</td>\n",
       "      <td>2017-04-17 15:27:07</td>\n",
       "      <td>5.0</td>\n",
       "      <td>64.0</td>\n",
       "      <td>79.0</td>\n",
       "      <td>U</td>\n",
       "      <td>2.0</td>\n",
       "      <td>189023.86</td>\n",
       "      <td>1.0</td>\n",
       "      <td>4.0</td>\n",
       "    </tr>\n",
       "    <tr>\n",
       "      <th>1</th>\n",
       "      <td>9988021</td>\n",
       "      <td>Test</td>\n",
       "      <td>580560515_7732621733</td>\n",
       "      <td>781255054_21935453173_531117</td>\n",
       "      <td>step_2</td>\n",
       "      <td>2017-04-17 15:26:51</td>\n",
       "      <td>5.0</td>\n",
       "      <td>64.0</td>\n",
       "      <td>79.0</td>\n",
       "      <td>U</td>\n",
       "      <td>2.0</td>\n",
       "      <td>189023.86</td>\n",
       "      <td>1.0</td>\n",
       "      <td>4.0</td>\n",
       "    </tr>\n",
       "    <tr>\n",
       "      <th>2</th>\n",
       "      <td>9988021</td>\n",
       "      <td>Test</td>\n",
       "      <td>580560515_7732621733</td>\n",
       "      <td>781255054_21935453173_531117</td>\n",
       "      <td>step_3</td>\n",
       "      <td>2017-04-17 15:19:22</td>\n",
       "      <td>5.0</td>\n",
       "      <td>64.0</td>\n",
       "      <td>79.0</td>\n",
       "      <td>U</td>\n",
       "      <td>2.0</td>\n",
       "      <td>189023.86</td>\n",
       "      <td>1.0</td>\n",
       "      <td>4.0</td>\n",
       "    </tr>\n",
       "    <tr>\n",
       "      <th>3</th>\n",
       "      <td>9988021</td>\n",
       "      <td>Test</td>\n",
       "      <td>580560515_7732621733</td>\n",
       "      <td>781255054_21935453173_531117</td>\n",
       "      <td>step_2</td>\n",
       "      <td>2017-04-17 15:19:13</td>\n",
       "      <td>5.0</td>\n",
       "      <td>64.0</td>\n",
       "      <td>79.0</td>\n",
       "      <td>U</td>\n",
       "      <td>2.0</td>\n",
       "      <td>189023.86</td>\n",
       "      <td>1.0</td>\n",
       "      <td>4.0</td>\n",
       "    </tr>\n",
       "    <tr>\n",
       "      <th>4</th>\n",
       "      <td>9988021</td>\n",
       "      <td>Test</td>\n",
       "      <td>580560515_7732621733</td>\n",
       "      <td>781255054_21935453173_531117</td>\n",
       "      <td>step_3</td>\n",
       "      <td>2017-04-17 15:18:04</td>\n",
       "      <td>5.0</td>\n",
       "      <td>64.0</td>\n",
       "      <td>79.0</td>\n",
       "      <td>U</td>\n",
       "      <td>2.0</td>\n",
       "      <td>189023.86</td>\n",
       "      <td>1.0</td>\n",
       "      <td>4.0</td>\n",
       "    </tr>\n",
       "    <tr>\n",
       "      <th>...</th>\n",
       "      <td>...</td>\n",
       "      <td>...</td>\n",
       "      <td>...</td>\n",
       "      <td>...</td>\n",
       "      <td>...</td>\n",
       "      <td>...</td>\n",
       "      <td>...</td>\n",
       "      <td>...</td>\n",
       "      <td>...</td>\n",
       "      <td>...</td>\n",
       "      <td>...</td>\n",
       "      <td>...</td>\n",
       "      <td>...</td>\n",
       "      <td>...</td>\n",
       "    </tr>\n",
       "    <tr>\n",
       "      <th>321304</th>\n",
       "      <td>6334360</td>\n",
       "      <td>Test</td>\n",
       "      <td>629124187_65258232847</td>\n",
       "      <td>586047816_14599436811_389185</td>\n",
       "      <td>step_2</td>\n",
       "      <td>2017-04-11 08:45:38</td>\n",
       "      <td>4.0</td>\n",
       "      <td>53.0</td>\n",
       "      <td>66.0</td>\n",
       "      <td>U</td>\n",
       "      <td>2.0</td>\n",
       "      <td>93103.47</td>\n",
       "      <td>6.0</td>\n",
       "      <td>9.0</td>\n",
       "    </tr>\n",
       "    <tr>\n",
       "      <th>321305</th>\n",
       "      <td>6334360</td>\n",
       "      <td>Test</td>\n",
       "      <td>629124187_65258232847</td>\n",
       "      <td>586047816_14599436811_389185</td>\n",
       "      <td>step_1</td>\n",
       "      <td>2017-04-11 08:44:43</td>\n",
       "      <td>4.0</td>\n",
       "      <td>53.0</td>\n",
       "      <td>66.0</td>\n",
       "      <td>U</td>\n",
       "      <td>2.0</td>\n",
       "      <td>93103.47</td>\n",
       "      <td>6.0</td>\n",
       "      <td>9.0</td>\n",
       "    </tr>\n",
       "    <tr>\n",
       "      <th>321306</th>\n",
       "      <td>6334360</td>\n",
       "      <td>Test</td>\n",
       "      <td>629124187_65258232847</td>\n",
       "      <td>586047816_14599436811_389185</td>\n",
       "      <td>step_2</td>\n",
       "      <td>2017-04-11 08:44:30</td>\n",
       "      <td>4.0</td>\n",
       "      <td>53.0</td>\n",
       "      <td>66.0</td>\n",
       "      <td>U</td>\n",
       "      <td>2.0</td>\n",
       "      <td>93103.47</td>\n",
       "      <td>6.0</td>\n",
       "      <td>9.0</td>\n",
       "    </tr>\n",
       "    <tr>\n",
       "      <th>321307</th>\n",
       "      <td>6334360</td>\n",
       "      <td>Test</td>\n",
       "      <td>629124187_65258232847</td>\n",
       "      <td>586047816_14599436811_389185</td>\n",
       "      <td>step_1</td>\n",
       "      <td>2017-04-11 08:42:36</td>\n",
       "      <td>4.0</td>\n",
       "      <td>53.0</td>\n",
       "      <td>66.0</td>\n",
       "      <td>U</td>\n",
       "      <td>2.0</td>\n",
       "      <td>93103.47</td>\n",
       "      <td>6.0</td>\n",
       "      <td>9.0</td>\n",
       "    </tr>\n",
       "    <tr>\n",
       "      <th>321308</th>\n",
       "      <td>6334360</td>\n",
       "      <td>Test</td>\n",
       "      <td>629124187_65258232847</td>\n",
       "      <td>586047816_14599436811_389185</td>\n",
       "      <td>start</td>\n",
       "      <td>2017-04-11 08:42:20</td>\n",
       "      <td>4.0</td>\n",
       "      <td>53.0</td>\n",
       "      <td>66.0</td>\n",
       "      <td>U</td>\n",
       "      <td>2.0</td>\n",
       "      <td>93103.47</td>\n",
       "      <td>6.0</td>\n",
       "      <td>9.0</td>\n",
       "    </tr>\n",
       "  </tbody>\n",
       "</table>\n",
       "<p>155091 rows × 14 columns</p>\n",
       "</div>"
      ],
      "text/plain": [
       "        client_id variation             visitor_id  \\\n",
       "0         9988021      Test   580560515_7732621733   \n",
       "1         9988021      Test   580560515_7732621733   \n",
       "2         9988021      Test   580560515_7732621733   \n",
       "3         9988021      Test   580560515_7732621733   \n",
       "4         9988021      Test   580560515_7732621733   \n",
       "...           ...       ...                    ...   \n",
       "321304    6334360      Test  629124187_65258232847   \n",
       "321305    6334360      Test  629124187_65258232847   \n",
       "321306    6334360      Test  629124187_65258232847   \n",
       "321307    6334360      Test  629124187_65258232847   \n",
       "321308    6334360      Test  629124187_65258232847   \n",
       "\n",
       "                            visit_id process_step            date_time  \\\n",
       "0       781255054_21935453173_531117       step_3  2017-04-17 15:27:07   \n",
       "1       781255054_21935453173_531117       step_2  2017-04-17 15:26:51   \n",
       "2       781255054_21935453173_531117       step_3  2017-04-17 15:19:22   \n",
       "3       781255054_21935453173_531117       step_2  2017-04-17 15:19:13   \n",
       "4       781255054_21935453173_531117       step_3  2017-04-17 15:18:04   \n",
       "...                              ...          ...                  ...   \n",
       "321304  586047816_14599436811_389185       step_2  2017-04-11 08:45:38   \n",
       "321305  586047816_14599436811_389185       step_1  2017-04-11 08:44:43   \n",
       "321306  586047816_14599436811_389185       step_2  2017-04-11 08:44:30   \n",
       "321307  586047816_14599436811_389185       step_1  2017-04-11 08:42:36   \n",
       "321308  586047816_14599436811_389185        start  2017-04-11 08:42:20   \n",
       "\n",
       "        clnt_tenure_yr  clnt_tenure_mnth  clnt_age gendr  num_accts  \\\n",
       "0                  5.0              64.0      79.0     U        2.0   \n",
       "1                  5.0              64.0      79.0     U        2.0   \n",
       "2                  5.0              64.0      79.0     U        2.0   \n",
       "3                  5.0              64.0      79.0     U        2.0   \n",
       "4                  5.0              64.0      79.0     U        2.0   \n",
       "...                ...               ...       ...   ...        ...   \n",
       "321304             4.0              53.0      66.0     U        2.0   \n",
       "321305             4.0              53.0      66.0     U        2.0   \n",
       "321306             4.0              53.0      66.0     U        2.0   \n",
       "321307             4.0              53.0      66.0     U        2.0   \n",
       "321308             4.0              53.0      66.0     U        2.0   \n",
       "\n",
       "              bal  calls_6_mnth  logons_6_mnth  \n",
       "0       189023.86           1.0            4.0  \n",
       "1       189023.86           1.0            4.0  \n",
       "2       189023.86           1.0            4.0  \n",
       "3       189023.86           1.0            4.0  \n",
       "4       189023.86           1.0            4.0  \n",
       "...           ...           ...            ...  \n",
       "321304   93103.47           6.0            9.0  \n",
       "321305   93103.47           6.0            9.0  \n",
       "321306   93103.47           6.0            9.0  \n",
       "321307   93103.47           6.0            9.0  \n",
       "321308   93103.47           6.0            9.0  \n",
       "\n",
       "[155091 rows x 14 columns]"
      ]
     },
     "execution_count": 69,
     "metadata": {},
     "output_type": "execute_result"
    }
   ],
   "source": [
    "df_final[(df_final['variation'] == 'Test') & (df_final['bal'] < outliers_bal)]"
   ]
  },
  {
   "cell_type": "code",
   "execution_count": 70,
   "metadata": {},
   "outputs": [
    {
     "data": {
      "text/plain": [
       "51697.0"
      ]
     },
     "execution_count": 70,
     "metadata": {},
     "output_type": "execute_result"
    }
   ],
   "source": [
    "155091 / 3"
   ]
  },
  {
   "cell_type": "code",
   "execution_count": 61,
   "metadata": {},
   "outputs": [
    {
     "data": {
      "text/plain": [
       "<Axes: xlabel='bal', ylabel='Count'>"
      ]
     },
     "execution_count": 61,
     "metadata": {},
     "output_type": "execute_result"
    },
    {
     "data": {
      "image/png": "[encoded data removed]",
      "text/plain": [
       "<Figure size 640x480 with 1 Axes>"
      ]
     },
     "metadata": {},
     "output_type": "display_data"
    }
   ],
   "source": [
    "sns.histplot(df_bal_test_small, kde=True, bins=int(2_421 ** (1/2)), color=\"salmon\")"
   ]
  },
  {
   "cell_type": "code",
   "execution_count": 65,
   "metadata": {},
   "outputs": [
    {
     "data": {
      "text/plain": [
       "Text(0.5, 1.0, 'Box-Cox Transformed bal-test-small')"
      ]
     },
     "execution_count": 65,
     "metadata": {},
     "output_type": "execute_result"
    },
    {
     "data": {
      "image/png": "[encoded data removed]",
      "text/plain": [
       "<Figure size 1000x500 with 1 Axes>"
      ]
     },
     "metadata": {},
     "output_type": "display_data"
    }
   ],
   "source": [
    "from scipy.stats import boxcox\n",
    "\n",
    "# Applying Box-Cox transformation to 'bal-test-small'\n",
    "df_boxcox, _ = boxcox(df_bal_test_medium)\n",
    "\n",
    "# Plotting the transformed distributions\n",
    "plt.figure(figsize=(10,5))\n",
    "\n",
    "# Box-Cox transformed 'LotArea'\n",
    "sns.histplot(df_boxcox, kde=True)\n",
    "plt.title('Box-Cox Transformed bal-test-small')"
   ]
  },
  {
   "cell_type": "code",
   "execution_count": null,
   "metadata": {},
   "outputs": [
    {
     "data": {
      "text/plain": [
       "<Axes: xlabel='clnt_age', ylabel='bal'>"
      ]
     },
     "execution_count": 40,
     "metadata": {},
     "output_type": "execute_result"
    },
    {
     "data": {
      "image/png": "[encoded data removed]",
      "text/plain": [
       "<Figure size 640x480 with 1 Axes>"
      ]
     },
     "metadata": {},
     "output_type": "display_data"
    }
   ],
   "source": [
    "# Plotting a scatter plot to visualize the relationship between 'balance' and 'client age' || valor = 'Test'\n",
    "\n",
    "\n",
    "sns.scatterplot(data=df_final[(df_final['variation'] == 'Test') & (df_final['bal'] < outliers_bal)], x='clnt_age', y='bal')"
   ]
  },
  {
   "cell_type": "code",
   "execution_count": 42,
   "metadata": {},
   "outputs": [
    {
     "data": {
      "text/plain": [
       "<Axes: xlabel='bal', ylabel='Count'>"
      ]
     },
     "execution_count": 42,
     "metadata": {},
     "output_type": "execute_result"
    },
    {
     "data": {
      "image/png": "[encoded data removed]",
      "text/plain": [
       "<Figure size 640x480 with 1 Axes>"
      ]
     },
     "metadata": {},
     "output_type": "display_data"
    }
   ],
   "source": [
    "# Applying log transformation to 'SalePrice' and standardizing it\n",
    "log_transformed_saleprice = np.log1p(df_final[(df_final['variation'] == 'Test') & (df_final['bal'] < outliers_bal)]['bal'])\n",
    "standardized_log_saleprice = (log_transformed_saleprice - log_transformed_saleprice.mean()) / log_transformed_saleprice.std()\n",
    "\n",
    "# Plotting histogram for transformed 'SalePrice'\n",
    "sns.histplot(standardized_log_saleprice, kde=True, bins=50, color=\"skyblue\")"
   ]
  },
  {
   "cell_type": "code",
   "execution_count": 49,
   "metadata": {},
   "outputs": [
    {
     "data": {
      "text/plain": [
       "Text(0.5, 1.0, 'Box-Cox Transformed bal-test')"
      ]
     },
     "execution_count": 49,
     "metadata": {},
     "output_type": "execute_result"
    },
    {
     "data": {
      "image/png": "[encoded data removed]",
      "text/plain": [
       "<Figure size 1000x500 with 1 Axes>"
      ]
     },
     "metadata": {},
     "output_type": "display_data"
    }
   ],
   "source": [
    "from scipy.stats import boxcox\n",
    "import numpy as np\n",
    "\n",
    "# Applying Box-Cox transformation to 'df_final'\n",
    "df_boxcox_bal_test, _ = boxcox(df_final[(df_final['variation'] == 'Test') & (df_final['bal'] < outliers_bal)]['bal'])\n",
    "\n",
    "# Plotting the transformed distributions\n",
    "plt.figure(figsize=(10,5))\n",
    "\n",
    "# Box-Cox transformed 'df_final'\n",
    "sns.histplot(df_boxcox_bal_test, kde=True)\n",
    "plt.title('Box-Cox Transformed bal-test')"
   ]
  },
  {
   "cell_type": "code",
   "execution_count": 50,
   "metadata": {},
   "outputs": [
    {
     "data": {
      "text/plain": [
       "((array([-4.44137548, -4.24667236, -4.14091368, ...,  4.14091368,\n",
       "          4.24667236,  4.44137548]),\n",
       "  array([2.66268481, 2.66268481, 2.66268481, ..., 2.7035051 , 2.7035051 ,\n",
       "         2.7035051 ])),\n",
       " (0.01075656652955216, 2.6827358956859864, 0.9836150551313467))"
      ]
     },
     "execution_count": 50,
     "metadata": {},
     "output_type": "execute_result"
    },
    {
     "data": {
      "image/png": "[encoded data removed]",
      "text/plain": [
       "<Figure size 640x480 with 1 Axes>"
      ]
     },
     "metadata": {},
     "output_type": "display_data"
    }
   ],
   "source": [
    "from scipy import stats\n",
    "\n",
    "# Q-Q plot for transformed 'bal-test'\n",
    "stats.probplot(df_boxcox_bal_test, plot=plt)"
   ]
  },
  {
   "cell_type": "code",
   "execution_count": 47,
   "metadata": {},
   "outputs": [
    {
     "data": {
      "text/plain": [
       "(0.9961240006148756, 0.0)"
      ]
     },
     "execution_count": 47,
     "metadata": {},
     "output_type": "execute_result"
    }
   ],
   "source": [
    "# Conducting the Kolmogorov-Smirnov test on the log-transformed and standardized 'bal-test'\n",
    "ks_test_statistic_after_transformation, ks_p_value_after_transformation = stats.kstest(df_boxcox_bal_test, 'norm')\n",
    "\n",
    "ks_test_statistic_after_transformation, ks_p_value_after_transformation"
   ]
  },
  {
   "cell_type": "code",
   "execution_count": 48,
   "metadata": {},
   "outputs": [
    {
     "name": "stdout",
     "output_type": "stream",
     "text": [
      "The test results indicate that the distribution of prices is significantly different from a normal distribution.\n"
     ]
    }
   ],
   "source": [
    "# print the test result\n",
    "if ks_p_value_after_transformation < 0.05:\n",
    "    print('The test results indicate that the distribution of prices is significantly different from a normal distribution.')\n",
    "else:\n",
    "    print('The test results indicate that the distribution of prices is not significantly different from a normal distribution.')"
   ]
  },
  {
   "cell_type": "code",
   "execution_count": 103,
   "metadata": {},
   "outputs": [
    {
     "data": {
      "text/plain": [
       "0.3529022006877168"
      ]
     },
     "execution_count": 103,
     "metadata": {},
     "output_type": "execute_result"
    }
   ],
   "source": [
    "correlation = df_final[df_final['variation'] == 'Test']['bal'].corr(df_final[df_final['variation'] == 'Test']['clnt_age'], method='spearman')\n",
    "correlation"
   ]
  },
  {
   "cell_type": "code",
   "execution_count": null,
   "metadata": {},
   "outputs": [
    {
     "data": {
      "text/plain": [
       "<Axes: xlabel='clnt_age', ylabel='bal'>"
      ]
     },
     "execution_count": 81,
     "metadata": {},
     "output_type": "execute_result"
    },
    {
     "data": {
      "image/png": "[encoded data removed]",
      "text/plain": [
       "<Figure size 640x480 with 1 Axes>"
      ]
     },
     "metadata": {},
     "output_type": "display_data"
    }
   ],
   "source": [
    "# Plotting a scatter plot to visualize the relationship between 'balance' and 'client age' || valor = 'Control'\n",
    "\n",
    "sns.scatterplot(data=df_final_merge[df_final_merge['variation'] == 'Control'], x='clnt_age', y='bal')"
   ]
  },
  {
   "cell_type": "code",
   "execution_count": 89,
   "metadata": {},
   "outputs": [
    {
     "data": {
      "text/plain": [
       "0.33857368631230256"
      ]
     },
     "execution_count": 89,
     "metadata": {},
     "output_type": "execute_result"
    }
   ],
   "source": [
    "correlation = df_final_merge[df_final_merge['variation'] == 'Control']['bal'].corr(df_final_merge[df_final_merge['variation'] == 'Control']['clnt_age'], method='spearman')\n",
    "correlation"
   ]
  }
 ],
 "metadata": {
  "kernelspec": {
   "display_name": "base",
   "language": "python",
   "name": "python3"
  },
  "language_info": {
   "codemirror_mode": {
    "name": "ipython",
    "version": 3
   },
   "file_extension": ".py",
   "mimetype": "text/x-python",
   "name": "python",
   "nbconvert_exporter": "python",
   "pygments_lexer": "ipython3",
   "version": "3.12.4"
  }
 },
 "nbformat": 4,
 "nbformat_minor": 2
}
